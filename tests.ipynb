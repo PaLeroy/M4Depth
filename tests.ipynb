{
 "cells": [
  {
   "cell_type": "code",
   "execution_count": 2,
   "metadata": {
    "collapsed": true,
    "pycharm": {
     "name": "#%%\n"
    }
   },
   "outputs": [
    {
     "name": "stdout",
     "output_type": "stream",
     "text": [
      "(27, 11)\n",
      "(62208, 65)\n",
      "(27, 11, 65)\n",
      "(3, 9, 11)\n",
      "(3, 20736, 65)\n",
      "desired: (3, 9, 11, 65)\n",
      "(9, 11, 65)\n",
      "-\n",
      "(9, 11, 65)\n",
      "-\n",
      "(9, 11, 65)\n",
      "-\n",
      "(3, 9, 11, 65)\n"
     ]
    },
    {
     "name": "stderr",
     "output_type": "stream",
     "text": [
      "2022-10-17 15:57:02.233960: I tensorflow/core/platform/cpu_feature_guard.cc:151] This TensorFlow binary is optimized with oneAPI Deep Neural Network Library (oneDNN) to use the following CPU instructions in performance-critical operations:  AVX2 AVX512F FMA\n",
      "To enable them in other operations, rebuild TensorFlow with the appropriate compiler flags.\n",
      "2022-10-17 15:57:02.765002: I tensorflow/core/common_runtime/gpu/gpu_device.cc:1525] Created device /job:localhost/replica:0/task:0/device:GPU:0 with 6637 MB memory:  -> device: 0, name: NVIDIA GeForce RTX 2080, pci bus id: 0000:65:00.0, compute capability: 7.5\n"
     ]
    }
   ],
   "source": [
    "import tensorflow as tf\n",
    "from tensorflow import keras as ks, float32\n",
    "import numpy as np\n",
    "from tensorflow.python.ops import math_ops, array_ops\n",
    "batch_size=3\n",
    "nbre_copies=9\n",
    "height=11\n",
    "width=11\n",
    "range = math_ops.range(nbre_copies) * height * width\n",
    "offsets = array_ops.reshape(range, [nbre_copies, 1])\n",
    "batch_offsets2 = tf.tile(offsets, [batch_size, 1])\n",
    "batch_offsets = tf.reshape(batch_offsets2, [-1, nbre_copies, 1])\n",
    "a = tf.range(11)\n",
    "batch_offsets = batch_offsets * a\n",
    "batch_offsets2 = batch_offsets2 * a\n",
    "\n",
    "print(batch_offsets2.shape)\n",
    "flattened_grid = tf.random.uniform(shape=(batch_size, 20736, 65))\n",
    "flattened_grid2 = tf.reshape(flattened_grid, (-1, 65))\n",
    "print(flattened_grid2.shape)\n",
    "gather2 = tf.gather(flattened_grid2, batch_offsets2)\n",
    "print(gather2.shape)\n",
    "print(batch_offsets.shape)\n",
    "print(flattened_grid.shape)\n",
    "print(\"desired:\", (3, 9, a.shape[0], 65))\n",
    "\n",
    "for idx, i in enumerate(batch_offsets):\n",
    "    z = tf.gather(flattened_grid[idx], batch_offsets[idx])\n",
    "    print(z.shape)\n",
    "    print(\"-\")\n",
    "\n",
    "gather = tf.gather(flattened_grid, batch_offsets,batch_dims=1)\n",
    "\n",
    "print(gather.shape)\n",
    "\n",
    "\n"
   ]
  },
  {
   "cell_type": "code",
   "execution_count": 33,
   "outputs": [
    {
     "name": "stdout",
     "output_type": "stream",
     "text": [
      "(45, 1000, 1231, 4)\n",
      "tf.Tensor(0.9999999, shape=(), dtype=float32)\n",
      "tf.Tensor(0.0, shape=(), dtype=float32)\n",
      "tf.Tensor(0.499986, shape=(), dtype=float32)\n"
     ]
    }
   ],
   "source": [
    "flow_former_test_1 = tf.random.uniform((8, 1, 1, 2))\n",
    "combined_former_test_1 = tf.random.uniform((45, 1000, 1231, 4))\n",
    "print(combined_former_test_1.shape)\n",
    "max = tf.reduce_max(combined_former_test_1)\n",
    "min = tf.reduce_min(combined_former_test_1)\n",
    "mean = tf.reduce_mean(combined_former_test_1)\n",
    "print(max)\n",
    "print(min)\n",
    "print(mean)"
   ],
   "metadata": {
    "collapsed": false,
    "pycharm": {
     "name": "#%%\n"
    }
   }
  },
  {
   "cell_type": "code",
   "execution_count": 2,
   "outputs": [
    {
     "name": "stdout",
     "output_type": "stream",
     "text": [
      "1.4375 1.4375\n"
     ]
    }
   ],
   "source": [
    "a = 23 / 2. ** float(4)\n",
    "b = 23 / (2. ** float(4))\n",
    "b = b\n",
    "print(a, b)"
   ],
   "metadata": {
    "collapsed": false,
    "pycharm": {
     "name": "#%%\n"
    }
   }
  },
  {
   "cell_type": "code",
   "execution_count": 5,
   "outputs": [
    {
     "name": "stdout",
     "output_type": "stream",
     "text": [
      "ok\n"
     ]
    }
   ],
   "source": [
    "a = 2\n",
    "b = 3\n",
    "c = 5\n",
    "if a == b or c:\n",
    "    print(\"ok\")"
   ],
   "metadata": {
    "collapsed": false,
    "pycharm": {
     "name": "#%%\n"
    }
   }
  },
  {
   "cell_type": "code",
   "execution_count": 5,
   "outputs": [
    {
     "name": "stdout",
     "output_type": "stream",
     "text": [
      "KerasTensor(type_spec=TensorSpec(shape=(None, 384, 384, 12), dtype=tf.float32, name=None), name='concatenate_3/concat:0', description=\"created by layer 'concatenate_3'\")\n"
     ]
    }
   ],
   "source": [
    "from tensorflow import keras as ks, float32\n",
    "import tensorflow as tf\n",
    "\n",
    "a = ks.Input(shape=(384, 384, 3,), dtype=float32)\n",
    "b = tf.keras.layers.concatenate([a, a, a, a],\n",
    "                                axis=-1)\n",
    "print(b)"
   ],
   "metadata": {
    "collapsed": false,
    "pycharm": {
     "name": "#%%\n"
    }
   }
  },
  {
   "cell_type": "code",
   "execution_count": 2,
   "outputs": [
    {
     "name": "stdout",
     "output_type": "stream",
     "text": [
      "Model: \"autoencoder\"\n",
      "_________________________________________________________________\n",
      " Layer (type)                Output Shape              Param #   \n",
      "=================================================================\n",
      " encoder (Encoder)           multiple                  54400     \n",
      "                                                                 \n",
      " decoder (Decoder)           multiple                  53072     \n",
      "                                                                 \n",
      "=================================================================\n",
      "Total params: 107,472\n",
      "Trainable params: 107,472\n",
      "Non-trainable params: 0\n",
      "_________________________________________________________________\n",
      "None\n",
      "[<__main__.Encoder object at 0x7fe678520640>, <__main__.Decoder object at 0x7fe65e024b50>]\n"
     ]
    }
   ],
   "source": [
    "print(vae.summary(expand_nested=True))\n",
    "print(vae.layers)"
   ],
   "metadata": {
    "collapsed": false,
    "pycharm": {
     "name": "#%%\n"
    }
   }
  },
  {
   "cell_type": "code",
   "execution_count": 3,
   "outputs": [
    {
     "name": "stdout",
     "output_type": "stream",
     "text": [
      "Model: \"model\"\n",
      "_________________________________________________________________\n",
      " Layer (type)                Output Shape              Param #   \n",
      "=================================================================\n",
      " input_1 (InputLayer)        [(None, 784)]             0         \n",
      "                                                                 \n",
      " autoencoder (VariationalAut  (None, 784)              107472    \n",
      " oEncoder)                                                       \n",
      "                                                                 \n",
      "=================================================================\n",
      "Total params: 107,472\n",
      "Trainable params: 107,472\n",
      "Non-trainable params: 0\n",
      "_________________________________________________________________\n",
      "None\n"
     ]
    }
   ],
   "source": [
    "x = keras.Input(784)\n",
    "model = Model(inputs=x, outputs=vae(x))\n",
    "print(model.summary())"
   ],
   "metadata": {
    "collapsed": false,
    "pycharm": {
     "name": "#%%\n"
    }
   }
  },
  {
   "cell_type": "code",
   "execution_count": 6,
   "outputs": [],
   "source": [
    "from keras.utils import vis_utils\n",
    "\n",
    "# vis_utils.plot_model(model, to_file='model.png', show_shapes=True,expand_nested=True, dpi=300)"
   ],
   "metadata": {
    "collapsed": false,
    "pycharm": {
     "name": "#%%\n"
    }
   }
  },
  {
   "cell_type": "code",
   "execution_count": 16,
   "outputs": [
    {
     "name": "stdout",
     "output_type": "stream",
     "text": [
      "Model: \"sequential_4\"\n",
      "_________________________________________________________________\n",
      " Layer (type)                Output Shape              Param #   \n",
      "=================================================================\n",
      " dense_1 (Dense)             (None, 2)                 10        \n",
      "                                                                 \n",
      "=================================================================\n",
      "Total params: 10\n",
      "Trainable params: 10\n",
      "Non-trainable params: 0\n",
      "_________________________________________________________________\n"
     ]
    }
   ],
   "source": [],
   "metadata": {
    "collapsed": false,
    "pycharm": {
     "name": "#%%\n"
    }
   }
  }
 ],
 "metadata": {
  "kernelspec": {
   "display_name": "Python 3",
   "language": "python",
   "name": "python3"
  },
  "language_info": {
   "codemirror_mode": {
    "name": "ipython",
    "version": 2
   },
   "file_extension": ".py",
   "mimetype": "text/x-python",
   "name": "python",
   "nbconvert_exporter": "python",
   "pygments_lexer": "ipython2",
   "version": "2.7.6"
  }
 },
 "nbformat": 4,
 "nbformat_minor": 0
}