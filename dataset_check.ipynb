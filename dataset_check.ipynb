{
 "cells": [
  {
   "cell_type": "code",
   "execution_count": null,
   "metadata": {
    "collapsed": true,
    "pycharm": {
     "name": "#%%\n"
    }
   },
   "outputs": [],
   "source": []
  },
  {
   "cell_type": "code",
   "execution_count": 15,
   "outputs": [],
   "source": [
    "from dataloaders import DataloaderParameters\n",
    "from dataloaders.midair import DataLoaderMidAir as MidAir\n",
    "\n",
    "param = DataloaderParameters({\n",
    "    '_comment': '/Users/pascalleroy/Documents/m4depth/M4Depth/relative paths should be written relative to this file',\n",
    "    'midair': '/Users/pascalleroy/Documents/m4depth/M4Depth/datasets/MidAir',\n",
    "    'kitti-raw': '/Users/pascalleroy/Documents/m4depth/M4Depth/datasets/Kitti',\n",
    "    'tartanair': '/Users/pascalleroy/Documents/m4depth/M4Depth/datasets/TartanAir'},\n",
    "    'data/midair/small_train_data',\n",
    "    8,  # db_seq_len\n",
    "    4,  # seq_len\n",
    "    True)\n",
    "chosen_dataloader = MidAir()\n",
    "batch_size = 1\n",
    "chosen_dataloader.get_dataset(\"train\", param, batch_size=batch_size)\n",
    "data = chosen_dataloader.dataset\n",
    "\n"
   ],
   "metadata": {
    "collapsed": false,
    "pycharm": {
     "name": "#%%\n"
    }
   }
  },
  {
   "cell_type": "code",
   "execution_count": 16,
   "outputs": [
    {
     "name": "stdout",
     "output_type": "stream",
     "text": [
      "6\n",
      "<class 'dict'>\n",
      "camera (1, 2) (1, 2)\n",
      "depth (1, 4, 384, 384, 1)\n",
      "RGB_im (1, 4, 384, 384, 3)\n",
      "rot (1, 4, 4)\n",
      "trans (1, 4, 3)\n",
      "new_traj (1, 4)\n"
     ]
    }
   ],
   "source": [
    "\n",
    "for i, sample in enumerate(data):\n",
    "    print(len(sample))\n",
    "    print(type(sample))\n",
    "    for k, v in sample.items():\n",
    "        if k == \"camera\":\n",
    "            print(k, v[\"c\"].shape, v[\"f\"].shape)\n",
    "        else:\n",
    "            print(k, v.shape)\n",
    "    break"
   ],
   "metadata": {
    "collapsed": false,
    "pycharm": {
     "name": "#%%\n"
    }
   }
  }
 ],
 "metadata": {
  "kernelspec": {
   "display_name": "Python 3",
   "language": "python",
   "name": "python3"
  },
  "language_info": {
   "codemirror_mode": {
    "name": "ipython",
    "version": 2
   },
   "file_extension": ".py",
   "mimetype": "text/x-python",
   "name": "python",
   "nbconvert_exporter": "python",
   "pygments_lexer": "ipython2",
   "version": "2.7.6"
  }
 },
 "nbformat": 4,
 "nbformat_minor": 0
}