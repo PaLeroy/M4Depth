{
 "cells": [
  {
   "cell_type": "code",
   "execution_count": 8,
   "metadata": {
    "collapsed": true,
    "pycharm": {
     "name": "#%%\n"
    }
   },
   "outputs": [],
   "source": [
    "import os\n",
    "os.environ['CUDA_VISIBLE_DEVICES'] = '-1'"
   ]
  },
  {
   "cell_type": "code",
   "execution_count": 11,
   "outputs": [],
   "source": [
    "from dataloaders import DataloaderParameters\n",
    "from dataloaders.midair import DataLoaderMidAir as MidAir\n",
    "\n",
    "param = DataloaderParameters({\n",
    "    '_comment': '/Users/pascalleroy/Documents/m4depth/M4Depth/relative paths should be written relative to this file',\n",
    "    'midair': '/mnt/ssd2/midair/MidAir',\n",
    "    'kitti-raw': '/Users/pascalleroy/Documents/m4depth/M4Depth/datasets/Kitti',\n",
    "    'tartanair': '/Users/pascalleroy/Documents/m4depth/M4Depth/datasets/TartanAir'},\n",
    "    'data/midair/train_data',\n",
    "    8,  # db_seq_len\n",
    "    4,  # seq_len\n",
    "    True)\n",
    "chosen_dataloader = MidAir()\n",
    "batch_size = 1\n",
    "chosen_dataloader.get_dataset(\"train\", param, batch_size=batch_size)\n",
    "data = chosen_dataloader.dataset\n",
    "\n"
   ],
   "metadata": {
    "collapsed": false,
    "pycharm": {
     "name": "#%%\n"
    }
   }
  },
  {
   "cell_type": "code",
   "execution_count": 12,
   "outputs": [],
   "source": [
    "import tensorflow as tf\n",
    "import numpy as np\n",
    "for i, sample in enumerate(data):\n",
    "    for k, v in sample.items():\n",
    "        try:\n",
    "            if k == \"camera\":\n",
    "                for k2, v2 in v.items():\n",
    "                    b = tf.math.is_nan(v2)\n",
    "                    c = tf.math.count_nonzero(b)\n",
    "                    if c != 0:\n",
    "                        print(\"error\", i, k2)\n",
    "            else:\n",
    "                if k == \"new_traj\":\n",
    "                    continue\n",
    "                c = tf.math.count_nonzero(tf.math.is_nan(v))\n",
    "                if c != 0:\n",
    "                    print(\"error\", i, k)\n",
    "        except Exception as e:\n",
    "            print(e, i, k)\n",
    "            break\n"
   ],
   "metadata": {
    "collapsed": false,
    "pycharm": {
     "name": "#%%\n"
    }
   }
  },
  {
   "cell_type": "code",
   "execution_count": 5,
   "outputs": [
    {
     "name": "stdout",
     "output_type": "stream",
     "text": [
      "tf.Tensor(2, shape=(), dtype=int64)\n"
     ]
    }
   ],
   "source": [
    "import tensorflow as tf\n",
    "import numpy as np\n",
    "\n",
    "x = tf.constant([5.0, np.nan, 6.8, np.nan, np.inf])\n",
    "b = tf.math.is_nan(x)\n",
    "c = tf.math.count_nonzero(b)\n",
    "print(c)"
   ],
   "metadata": {
    "collapsed": false,
    "pycharm": {
     "name": "#%%\n"
    }
   }
  },
  {
   "cell_type": "code",
   "execution_count": null,
   "outputs": [],
   "source": [],
   "metadata": {
    "collapsed": false,
    "pycharm": {
     "name": "#%%\n"
    }
   }
  }
 ],
 "metadata": {
  "kernelspec": {
   "display_name": "Python 3",
   "language": "python",
   "name": "python3"
  },
  "language_info": {
   "codemirror_mode": {
    "name": "ipython",
    "version": 2
   },
   "file_extension": ".py",
   "mimetype": "text/x-python",
   "name": "python",
   "nbconvert_exporter": "python",
   "pygments_lexer": "ipython2",
   "version": "2.7.6"
  }
 },
 "nbformat": 4,
 "nbformat_minor": 0
}