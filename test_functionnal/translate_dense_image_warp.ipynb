{
 "cells": [
  {
   "cell_type": "code",
   "execution_count": 2,
   "metadata": {
    "collapsed": true,
    "pycharm": {
     "name": "#%%\n"
    }
   },
   "outputs": [
    {
     "name": "stdout",
     "output_type": "stream",
     "text": [
      "The autoreload extension is already loaded. To reload it, use:\n",
      "  %reload_ext autoreload\n"
     ]
    }
   ],
   "source": [
    "%load_ext autoreload\n",
    "%autoreload 2"
   ]
  },
  {
   "cell_type": "code",
   "execution_count": 118,
   "outputs": [
    {
     "name": "stdout",
     "output_type": "stream",
     "text": [
      "image (45, 48, 48, 65)\n",
      "query_points_flattened (45, 2304, 2)\n",
      "num_queries tf.Tensor(2304, shape=(), dtype=int32) unstacked_query_points 2\n",
      "flattened_grid (103680, 65)\n",
      "batch_offsets (45, 1)\n",
      "floors (45, 2304)\n",
      "y_coords (45, 2304)\n",
      "x_coords (45, 2304)\n",
      "linear_coordinates (45, 2304)\n",
      "flattened_grid (103680, 65)\n",
      "gathered_values (45, 2304, 65)\n",
      "top_left (45, 2304, 65)\n",
      "y_coords (45, 2304)\n",
      "x_coords (45, 2304)\n",
      "linear_coordinates (45, 2304)\n",
      "flattened_grid (103680, 65)\n",
      "gathered_values (45, 2304, 65)\n",
      "y_coords (45, 2304)\n",
      "x_coords (45, 2304)\n",
      "linear_coordinates (45, 2304)\n",
      "flattened_grid (103680, 65)\n",
      "gathered_values (45, 2304, 65)\n",
      "y_coords (45, 2304)\n",
      "x_coords (45, 2304)\n",
      "linear_coordinates (45, 2304)\n",
      "flattened_grid (103680, 65)\n",
      "gathered_values (45, 2304, 65)\n",
      "out_put_test_1_former (45, 48, 48, 65)\n",
      "---\n",
      "functionnal\n",
      "(1, 48, 48, 2)\n",
      "(5, 9, 48, 48, 2)\n",
      "image (5, 9, 48, 48, 65)\n",
      "query_points_flattened (5, 9, 2304, 2)\n",
      "num_queries tf.Tensor(2304, shape=(), dtype=int32) unstacked_query_points 2\n",
      "batch_offsets (5, 9, 1)\n",
      "flattened_grid (5, 20736, 65)\n",
      "floors (5, 9, 2304)\n",
      "linear_coordinates (5, 9, 2304)\n",
      "flattened_grid (5, 20736, 65)\n",
      "gathered_values (5, 9, 2304, 65)\n",
      "top_left (5, 9, 2304, 65)\n",
      "linear_coordinates (5, 9, 2304)\n",
      "flattened_grid (5, 20736, 65)\n",
      "gathered_values (5, 9, 2304, 65)\n",
      "linear_coordinates (5, 9, 2304)\n",
      "flattened_grid (5, 20736, 65)\n",
      "gathered_values (5, 9, 2304, 65)\n",
      "linear_coordinates (5, 9, 2304)\n",
      "flattened_grid (5, 20736, 65)\n",
      "gathered_values (5, 9, 2304, 65)\n",
      "bottom_right (5, 9, 2304, 65)\n",
      "out_put_test_1 (5, 9, 48, 48, 65)\n",
      "---\n",
      "(45, 48, 48, 65)\n",
      "(5, 9, 48, 48, 65)\n",
      "tf.Tensor(True, shape=(), dtype=bool)\n"
     ]
    }
   ],
   "source": [
    "from utils.dense_image_warp import dense_image_warp as dense_image_warp_former\n",
    "from utils.dense_image_warp_functionnal import dense_image_warp\n",
    "import tensorflow as tf\n",
    "from tensorflow import keras as ks, float32\n",
    "from tensorflow.python.ops import array_ops\n",
    "\n",
    "\n",
    "\n",
    "flow_former = ks.Input(shape=(45, 48, 48, 2), dtype=float32)  # data image\n",
    "combined_former = ks.Input(shape=(45, 48, 48, 65), dtype=float32)  # data image\n",
    "\n",
    "flow = ks.Input(shape=(5, 9, 48, 48, 2), dtype=float32)  # data image\n",
    "combined = ks.Input(shape=(5, 9, 48, 48, 65), dtype=float32)  # data image\n",
    "\n",
    "#get_disparity_sweeping_cv_output (TensorShape([1, 48, 48, 18]), TensorShape([1, 48, 48, 9]))\n",
    "flow_former_test_1 = tf.random.uniform((45, 48, 48, 2))\n",
    "combined_former_test_1 = tf.random.uniform((45, 48, 48, 65))\n",
    "flow_test_1 = tf.reshape(flow_former_test_1, (-1, 9, 48, 48, 2))\n",
    "combined_test_1 = tf.reshape(combined_former_test_1, (-1, 9, 48, 48, 65))\n",
    "\n",
    "\n",
    "out_put_test_1_former = dense_image_warp_former(combined_former_test_1, flow_former_test_1)\n",
    "print(\"out_put_test_1_former\", out_put_test_1_former.shape)\n",
    "print(\"---\")\n",
    "\n",
    "out_put_test_1 = dense_image_warp(combined_test_1, flow_test_1)\n",
    "print(\"out_put_test_1\", out_put_test_1.shape)\n",
    "print(\"---\")\n",
    "\n",
    "tensor1 = out_put_test_1_former\n",
    "tensor2 = out_put_test_1\n",
    "print(tensor1.shape)\n",
    "print(tensor2.shape)\n",
    "# print(tensor1[0])\n",
    "# print(tensor2[0][0])\n",
    "print(tf.reduce_all(tf.math.equal(tensor1, array_ops.reshape(tensor2, (-1, 48, 48, 65)))))\n"
   ],
   "metadata": {
    "collapsed": false,
    "pycharm": {
     "name": "#%%\n"
    }
   }
  }
 ],
 "metadata": {
  "kernelspec": {
   "display_name": "Python 3",
   "language": "python",
   "name": "python3"
  },
  "language_info": {
   "codemirror_mode": {
    "name": "ipython",
    "version": 2
   },
   "file_extension": ".py",
   "mimetype": "text/x-python",
   "name": "python",
   "nbconvert_exporter": "python",
   "pygments_lexer": "ipython2",
   "version": "2.7.6"
  }
 },
 "nbformat": 4,
 "nbformat_minor": 0
}