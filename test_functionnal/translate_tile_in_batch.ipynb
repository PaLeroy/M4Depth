{
 "cells": [
  {
   "cell_type": "code",
   "execution_count": 18,
   "metadata": {
    "collapsed": true,
    "pycharm": {
     "name": "#%%\n"
    }
   },
   "outputs": [
    {
     "name": "stdout",
     "output_type": "stream",
     "text": [
      "10\n",
      "[1, 48, 48, 64]\n",
      "(1, 1, 48, 48, 64)\n",
      "(10, 1, 48, 48, 64)\n",
      "(10, 48, 48, 64)\n",
      "out_put_test_1_former (10, 48, 48, 64)\n",
      "---\n",
      "10\n",
      "[None, 48, 48, 64]\n",
      "(1, None, 48, 48, 64)\n",
      "(10, None, 48, 48, 64)\n",
      "(None, 48, 48, 64)\n",
      "10\n",
      "[1, 48, 48, 64]\n",
      "(1, 1, 48, 48, 64)\n",
      "(10, 1, 48, 48, 64)\n",
      "(10, 48, 48, 64)\n",
      "out_put_test_1 (10, 48, 48, 64)\n"
     ]
    }
   ],
   "source": [
    "\n",
    "import tensorflow as tf\n",
    "from tensorflow import keras as ks, float32\n",
    "from keras import backend as K\n",
    "\n",
    "def tile_in_batch_former(map, nbre_copies):\n",
    "    print(nbre_copies)\n",
    "    map_shape = map.get_shape().as_list()\n",
    "    print(map_shape)\n",
    "    map = tf.expand_dims(map, axis=0)\n",
    "    print(map.shape)\n",
    "    map = tf.tile(map, [nbre_copies] + [1 for i in map_shape])\n",
    "    print(map.shape)\n",
    "    map = tf.reshape(map, [-1] + map_shape[ 1:])  # out. shape is the following: [nbre_copies*map_shape[0]]+map_shape[1:])\n",
    "    print(map.shape)\n",
    "    return map\n",
    "\n",
    "\n",
    "def tile_in_batch(map, nbre_copies):\n",
    "    print(nbre_copies)\n",
    "    map_shape = map.get_shape().as_list()\n",
    "    print(map_shape)\n",
    "    map = tf.expand_dims(map, axis=0)\n",
    "    print(map.shape)\n",
    "    map = tf.tile(map, [nbre_copies] + [1 for i in map_shape])\n",
    "    print(map.shape)\n",
    "    map =  tf.reshape(map, [-1] + map_shape[ 1:])  # out. shape is the following: [nbre_copies*map_shape[0]]+map_shape[1:])\n",
    "    print(map.shape)\n",
    "    return map\n",
    "\n",
    "\n",
    "b=1\n",
    "c1 = ks.Input(shape=(48, 48, 64,), dtype=float32)  # data image\n",
    "c1_test_1 = tf.random.uniform([b] + c1.shape[1:])\n",
    "nbre_copies=10\n",
    "\n",
    "\n",
    "out_put_test_1_former = tile_in_batch_former(c1_test_1, nbre_copies)\n",
    "print(\"out_put_test_1_former\", out_put_test_1_former.shape)\n",
    "print(\"---\")\n",
    "\n",
    "tile_function = lambda x: tile_in_batch(x, nbre_copies)\n",
    "depth_curr_l = ks.layers.Lambda(tile_function)(c1)\n",
    "\n",
    "model_full = ks.Model(inputs=[c1],\n",
    "                      outputs=depth_curr_l)\n",
    "\n",
    "out_put_test_1 = model_full((c1_test_1))\n",
    "print(\"out_put_test_1\", out_put_test_1.shape)\n"
   ]
  }
 ],
 "metadata": {
  "kernelspec": {
   "display_name": "Python 3",
   "language": "python",
   "name": "python3"
  },
  "language_info": {
   "codemirror_mode": {
    "name": "ipython",
    "version": 2
   },
   "file_extension": ".py",
   "mimetype": "text/x-python",
   "name": "python",
   "nbconvert_exporter": "python",
   "pygments_lexer": "ipython2",
   "version": "2.7.6"
  }
 },
 "nbformat": 4,
 "nbformat_minor": 0
}