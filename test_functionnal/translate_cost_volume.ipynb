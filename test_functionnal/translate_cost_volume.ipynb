{
 "cells": [
  {
   "cell_type": "code",
   "execution_count": null,
   "outputs": [],
   "source": [
    "import os\n",
    "os.chdir(os.path.dirname(os.getcwd()))\n",
    "print(os.getcwd())"
   ],
   "metadata": {
    "collapsed": false
   }
  },
  {
   "cell_type": "code",
   "execution_count": null,
   "outputs": [],
   "source": [
    "\n",
    "from utils.depth_operations_functional import cost_volume\n",
    "from tensorflow import keras as ks, float32\n",
    "import tensorflow as tf\n",
    "\n",
    "def cost_volume2(c1, search_range, name=\"cost_volume\", dilation_rate=1,\n",
    "                nbre_cuts=1):\n",
    "    \"\"\"Build cost volume for associating a pixel from Image1 with its corresponding pixels in Image2.\n",
    "    Args:\n",
    "        c1: Feature map 1\n",
    "        c2: Feature map 2\n",
    "        search_range: Search range (maximum displacement)\n",
    "    \"\"\"\n",
    "    print(\"in\", c1.shape)\n",
    "    max_offset=search_range*2+1\n",
    "    c1 = tf.cast(c1, tf.float16)\n",
    "\n",
    "    strided_search_range = search_range * dilation_rate\n",
    "    padded_lvl = tf.pad(c1, [[0, 0],\n",
    "                             [strided_search_range, strided_search_range],\n",
    "                             [strided_search_range, strided_search_range],\n",
    "                             [0, 0]])\n",
    "    _, h, w, c = c1.get_shape().as_list()\n",
    "    c1_nchw = c1 #tf.transpose(c1, perm=[0, 3, 1, 2])\n",
    "    pl_nchw = padded_lvl #tf.transpose(padded_lvl, perm=[0, 3, 1, 2])\n",
    "\n",
    "    list_all2=tf.image.extract_patches(pl_nchw,\n",
    "                                       sizes=[1, h, w, 1],\n",
    "                                       strides=[1, dilation_rate, dilation_rate,1],\n",
    "                                       rates=[1,1,1,1],\n",
    "                                       padding=\"VALID\")\n",
    "\n",
    "    patches = ks.layers.Reshape(list_all2.shape[1:3] + c1.shape[1:4], dtype=tf.float16)(list_all2)\n",
    "    c1_repeat = tf.expand_dims(c1,axis=1)\n",
    "    c1_repeat = tf.expand_dims(c1_repeat,axis=1)\n",
    "    c1_repeat = tf.tile(c1_repeat, [1,patches.shape[1], patches.shape[2],1, 1, 1])\n",
    "\n",
    "    patches = c1_repeat*patches\n",
    "    split_stack = tf.stack(tf.split(patches, num_or_size_splits=nbre_cuts, axis=-1), axis=-1)\n",
    "    cost = tf.reduce_mean(split_stack, axis=-2)\n",
    "    cost = tf.transpose(cost, perm=[0, 3, 4, 1, 2, 5])\n",
    "    cost_vol = ks.layers.Reshape(cost.shape[1:3] + [cost.shape[3]*cost.shape[4]*cost.shape[5]], dtype=tf.float16)(cost)\n",
    "    cost_vol = tf.nn.leaky_relu(cost_vol, alpha=0.1, name=name)\n",
    "\n",
    "    return tf.cast(cost_vol, tf.float32)\n",
    "\n",
    "\n",
    "x_in= ks.Input(shape=(96, 96, 32,), dtype=float32)  # data image\n",
    "x = cost_volume(x_in, 4, cost_volume, 1, 2)\n",
    "model = ks.Model(inputs=[x_in], outputs=[x])\n",
    "\n",
    "x2 = cost_volume2(x_in, 4 , cost_volume, 1, 2)\n",
    "model2 = ks.Model(inputs=[x_in], outputs=[x2])\n",
    "# # model2.summary()\n",
    "\n",
    "\n",
    "b=3\n",
    "x_sample = tf.random.normal([b]+ x_in.shape[1:])\n",
    "y1 = model(x_sample)\n",
    "y2 = model2(x_sample)\n",
    "print(y1.shape)\n",
    "print(y2.shape)\n",
    "# print(model(x_sample)[0,0,0,:])\n",
    "# print(model2(x_sample)[0,0,0,:])\n",
    "\n",
    "# print(y1[0,0,0,47:65])\n",
    "# print(y2[0,0,0,47:65])\n",
    "# print(tf.math.equal(y1, y2))\n",
    "print(tf.reduce_all(tf.math.equal(y1, y2)))\n"
   ],
   "metadata": {
    "collapsed": false
   }
  },
  {
   "cell_type": "code",
   "execution_count": null,
   "outputs": [],
   "source": [],
   "metadata": {
    "collapsed": false
   }
  }
 ],
 "metadata": {
  "kernelspec": {
   "name": "python3",
   "language": "python",
   "display_name": "Python 3 (ipykernel)"
  },
  "language_info": {
   "codemirror_mode": {
    "name": "ipython",
    "version": 2
   },
   "file_extension": ".py",
   "mimetype": "text/x-python",
   "name": "python",
   "nbconvert_exporter": "python",
   "pygments_lexer": "ipython2",
   "version": "2.7.6"
  }
 },
 "nbformat": 4,
 "nbformat_minor": 0
}
