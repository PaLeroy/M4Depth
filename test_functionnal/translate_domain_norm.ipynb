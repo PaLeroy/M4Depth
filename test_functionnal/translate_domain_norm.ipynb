{
 "cells": [
  {
   "cell_type": "code",
   "execution_count": null,
   "outputs": [],
   "source": [],
   "metadata": {
    "collapsed": false,
    "pycharm": {
     "name": "#%%\n"
    }
   }
  },
  {
   "cell_type": "code",
   "execution_count": 18,
   "outputs": [
    {
     "name": "stdout",
     "output_type": "stream",
     "text": [
      "(1, 1, 1, 16)\n",
      "(1, 1, 1, 16)\n",
      "WARNING:tensorflow:Compiled the loaded model, but the compiled metrics have yet to be built. `model.compile_metrics` will be empty until you train or evaluate the model.\n",
      "(None, 384, 384, 16)\n",
      "normed (None, 384, 384, 16)\n"
     ]
    },
    {
     "ename": "TypeError",
     "evalue": "int() argument must be a string, a bytes-like object or a number, not 'list'",
     "output_type": "error",
     "traceback": [
      "\u001B[0;31m---------------------------------------------------------------------------\u001B[0m",
      "\u001B[0;31mTypeError\u001B[0m                                 Traceback (most recent call last)",
      "Input \u001B[0;32mIn [18]\u001B[0m, in \u001B[0;36m<cell line: 76>\u001B[0;34m()\u001B[0m\n\u001B[1;32m     73\u001B[0m     \u001B[38;5;28;01mreturn\u001B[39;00m to_ret\n\u001B[1;32m     75\u001B[0m \u001B[38;5;28mprint\u001B[39m(x_in\u001B[38;5;241m.\u001B[39mshape)\n\u001B[0;32m---> 76\u001B[0m x2 \u001B[38;5;241m=\u001B[39m \u001B[43mdomain_normalization_as_a_function\u001B[49m\u001B[43m(\u001B[49m\u001B[43mx_in\u001B[49m\u001B[43m,\u001B[49m\u001B[43m \u001B[49m\u001B[43mregularizer_weight\u001B[49m\u001B[43m)\u001B[49m\n\u001B[1;32m     77\u001B[0m \u001B[38;5;28mprint\u001B[39m(x2\u001B[38;5;241m.\u001B[39mshape)\n\u001B[1;32m     78\u001B[0m model2 \u001B[38;5;241m=\u001B[39m ks\u001B[38;5;241m.\u001B[39mModel(inputs\u001B[38;5;241m=\u001B[39m[x_in], outputs\u001B[38;5;241m=\u001B[39m[x2])\n",
      "Input \u001B[0;32mIn [18]\u001B[0m, in \u001B[0;36mdomain_normalization_as_a_function\u001B[0;34m(f_map, regularizer_weight)\u001B[0m\n\u001B[1;32m     65\u001B[0m \u001B[38;5;28mprint\u001B[39m(\u001B[38;5;124m'\u001B[39m\u001B[38;5;124mnormed\u001B[39m\u001B[38;5;124m'\u001B[39m, normed\u001B[38;5;241m.\u001B[39mshape)\n\u001B[1;32m     66\u001B[0m channels \u001B[38;5;241m=\u001B[39m f_map\u001B[38;5;241m.\u001B[39mshape[\u001B[38;5;241m-\u001B[39m\u001B[38;5;241m1\u001B[39m]\n\u001B[0;32m---> 67\u001B[0m to_ret \u001B[38;5;241m=\u001B[39m  \u001B[43mks\u001B[49m\u001B[38;5;241;43m.\u001B[39;49m\u001B[43mlayers\u001B[49m\u001B[38;5;241;43m.\u001B[39;49m\u001B[43mDense\u001B[49m\u001B[43m(\u001B[49m\u001B[43m[\u001B[49m\u001B[38;5;241;43m1\u001B[39;49m\u001B[43m,\u001B[49m\u001B[43m \u001B[49m\u001B[38;5;241;43m1\u001B[39;49m\u001B[43m,\u001B[49m\u001B[43m \u001B[49m\u001B[38;5;241;43m1\u001B[39;49m\u001B[43m,\u001B[49m\u001B[43m \u001B[49m\u001B[43mchannels\u001B[49m\u001B[43m]\u001B[49m\u001B[43m,\u001B[49m\n\u001B[1;32m     68\u001B[0m \u001B[43m                          \u001B[49m\u001B[43muse_bias\u001B[49m\u001B[38;5;241;43m=\u001B[39;49m\u001B[38;5;28;43;01mTrue\u001B[39;49;00m\u001B[43m,\u001B[49m\n\u001B[1;32m     69\u001B[0m \u001B[43m                          \u001B[49m\u001B[43mkernel_initializer\u001B[49m\u001B[38;5;241;43m=\u001B[39;49m\u001B[43mtf\u001B[49m\u001B[38;5;241;43m.\u001B[39;49m\u001B[43mones_initializer\u001B[49m\u001B[43m(\u001B[49m\u001B[43m)\u001B[49m\u001B[43m,\u001B[49m\n\u001B[1;32m     70\u001B[0m \u001B[43m                          \u001B[49m\u001B[43mbias_initializer\u001B[49m\u001B[38;5;241;43m=\u001B[39;49m\u001B[43mtf\u001B[49m\u001B[38;5;241;43m.\u001B[39;49m\u001B[43mzeros_initializer\u001B[49m\u001B[43m(\u001B[49m\u001B[43m)\u001B[49m\u001B[43m,\u001B[49m\n\u001B[1;32m     71\u001B[0m \u001B[43m                          \u001B[49m\u001B[43mkernel_regularizer\u001B[49m\u001B[38;5;241;43m=\u001B[39;49m\u001B[43mtf\u001B[49m\u001B[38;5;241;43m.\u001B[39;49m\u001B[43mkeras\u001B[49m\u001B[38;5;241;43m.\u001B[39;49m\u001B[43mregularizers\u001B[49m\u001B[38;5;241;43m.\u001B[39;49m\u001B[43mL2\u001B[49m\u001B[43m(\u001B[49m\u001B[43mregularizer_weight\u001B[49m\u001B[43m)\u001B[49m\u001B[43m)\u001B[49m\\\n\u001B[1;32m     72\u001B[0m     (normed)\n\u001B[1;32m     73\u001B[0m \u001B[38;5;28;01mreturn\u001B[39;00m to_ret\n",
      "File \u001B[0;32m~/Documents/m4depth/M4Depth/env/lib/python3.8/site-packages/keras/dtensor/utils.py:95\u001B[0m, in \u001B[0;36mallow_initializer_layout.<locals>._wrap_function\u001B[0;34m(layer_instance, *args, **kwargs)\u001B[0m\n\u001B[1;32m     92\u001B[0m     \u001B[38;5;28;01mif\u001B[39;00m layout:\n\u001B[1;32m     93\u001B[0m       layout_args[variable_name \u001B[38;5;241m+\u001B[39m \u001B[38;5;124m\"\u001B[39m\u001B[38;5;124m_layout\u001B[39m\u001B[38;5;124m\"\u001B[39m] \u001B[38;5;241m=\u001B[39m layout\n\u001B[0;32m---> 95\u001B[0m \u001B[43minit_method\u001B[49m\u001B[43m(\u001B[49m\u001B[43mlayer_instance\u001B[49m\u001B[43m,\u001B[49m\u001B[43m \u001B[49m\u001B[38;5;241;43m*\u001B[39;49m\u001B[43margs\u001B[49m\u001B[43m,\u001B[49m\u001B[43m \u001B[49m\u001B[38;5;241;43m*\u001B[39;49m\u001B[38;5;241;43m*\u001B[39;49m\u001B[43mkwargs\u001B[49m\u001B[43m)\u001B[49m\n\u001B[1;32m     97\u001B[0m \u001B[38;5;66;03m# Inject the layout parameter after the invocation of __init__()\u001B[39;00m\n\u001B[1;32m     98\u001B[0m \u001B[38;5;28;01mfor\u001B[39;00m layout_param_name, layout \u001B[38;5;129;01min\u001B[39;00m layout_args\u001B[38;5;241m.\u001B[39mitems():\n",
      "File \u001B[0;32m~/Documents/m4depth/M4Depth/env/lib/python3.8/site-packages/keras/layers/core/dense.py:116\u001B[0m, in \u001B[0;36mDense.__init__\u001B[0;34m(self, units, activation, use_bias, kernel_initializer, bias_initializer, kernel_regularizer, bias_regularizer, activity_regularizer, kernel_constraint, bias_constraint, **kwargs)\u001B[0m\n\u001B[1;32m    100\u001B[0m \u001B[38;5;129m@utils\u001B[39m\u001B[38;5;241m.\u001B[39mallow_initializer_layout\n\u001B[1;32m    101\u001B[0m \u001B[38;5;28;01mdef\u001B[39;00m \u001B[38;5;21m__init__\u001B[39m(\u001B[38;5;28mself\u001B[39m,\n\u001B[1;32m    102\u001B[0m              units,\n\u001B[0;32m   (...)\u001B[0m\n\u001B[1;32m    111\u001B[0m              bias_constraint\u001B[38;5;241m=\u001B[39m\u001B[38;5;28;01mNone\u001B[39;00m,\n\u001B[1;32m    112\u001B[0m              \u001B[38;5;241m*\u001B[39m\u001B[38;5;241m*\u001B[39mkwargs):\n\u001B[1;32m    113\u001B[0m   \u001B[38;5;28msuper\u001B[39m(Dense, \u001B[38;5;28mself\u001B[39m)\u001B[38;5;241m.\u001B[39m\u001B[38;5;21m__init__\u001B[39m(\n\u001B[1;32m    114\u001B[0m       activity_regularizer\u001B[38;5;241m=\u001B[39mactivity_regularizer, \u001B[38;5;241m*\u001B[39m\u001B[38;5;241m*\u001B[39mkwargs)\n\u001B[0;32m--> 116\u001B[0m   \u001B[38;5;28mself\u001B[39m\u001B[38;5;241m.\u001B[39munits \u001B[38;5;241m=\u001B[39m \u001B[38;5;28;43mint\u001B[39;49m\u001B[43m(\u001B[49m\u001B[43munits\u001B[49m\u001B[43m)\u001B[49m \u001B[38;5;28;01mif\u001B[39;00m \u001B[38;5;129;01mnot\u001B[39;00m \u001B[38;5;28misinstance\u001B[39m(units, \u001B[38;5;28mint\u001B[39m) \u001B[38;5;28;01melse\u001B[39;00m units\n\u001B[1;32m    117\u001B[0m   \u001B[38;5;28;01mif\u001B[39;00m \u001B[38;5;28mself\u001B[39m\u001B[38;5;241m.\u001B[39munits \u001B[38;5;241m<\u001B[39m \u001B[38;5;241m0\u001B[39m:\n\u001B[1;32m    118\u001B[0m     \u001B[38;5;28;01mraise\u001B[39;00m \u001B[38;5;167;01mValueError\u001B[39;00m(\u001B[38;5;124mf\u001B[39m\u001B[38;5;124m'\u001B[39m\u001B[38;5;124mReceived an invalid value for `units`, expected \u001B[39m\u001B[38;5;124m'\u001B[39m\n\u001B[1;32m    119\u001B[0m                      \u001B[38;5;124mf\u001B[39m\u001B[38;5;124m'\u001B[39m\u001B[38;5;124ma positive integer. Received: units=\u001B[39m\u001B[38;5;132;01m{\u001B[39;00munits\u001B[38;5;132;01m}\u001B[39;00m\u001B[38;5;124m'\u001B[39m)\n",
      "\u001B[0;31mTypeError\u001B[0m: int() argument must be a string, a bytes-like object or a number, not 'list'"
     ]
    }
   ],
   "source": [
    "import tensorflow as tf\n",
    "import numpy as np\n",
    "from tensorflow import keras as ks, float32\n",
    "\n",
    "class DomainNormalization(ks.layers.Layer):\n",
    "    # Normalizes a feature map according to the procedure presented by\n",
    "    # Zhang et.al. in \"Domain-invariant stereo matching networks\".\n",
    "    # TODO: as a function\n",
    "    def __init__(self, regularizer_weight=0.0004, *args, **kwargs):\n",
    "        super(DomainNormalization, self).__init__(*args, **kwargs)\n",
    "        self.regularizer_weight = regularizer_weight\n",
    "\n",
    "    def build(self, input_shape):\n",
    "        channels = input_shape[-1]\n",
    "\n",
    "        self.scale = self.add_weight(name=\"scale\", shape=[1, 1, 1, channels],\n",
    "                                     dtype='float32',\n",
    "                                     initializer=tf.ones_initializer(),\n",
    "                                     trainable=True)\n",
    "        self.bias = self.add_weight(name=\"bias\", shape=[1, 1, 1, channels],\n",
    "                                    dtype='float32',\n",
    "                                    initializer=tf.zeros_initializer(),\n",
    "                                    trainable=True)\n",
    "\n",
    "        # Add regularization loss on the scale factor\n",
    "        regularizer = tf.keras.regularizers.L2(self.regularizer_weight)\n",
    "        self.add_loss(regularizer(self.scale))\n",
    "\n",
    "    def call(self, f_map):\n",
    "        mean = tf.math.reduce_mean(f_map, axis=[1, 2], keepdims=True,\n",
    "                                   name=None)\n",
    "        var = tf.math.reduce_variance(f_map, axis=[1, 2], keepdims=True,\n",
    "                                      name=None)\n",
    "        normed = tf.math.l2_normalize((f_map - mean) / (var + 1e-12), axis=-1)\n",
    "        print(self.scale.shape)\n",
    "        print(self.bias.shape)\n",
    "        return self.scale * normed + self.bias\n",
    "\n",
    "    def get_config(self):\n",
    "        config = super().get_config()\n",
    "        config.update({\n",
    "            \"regularizer_weight\": self.regularizer_weight,\n",
    "        })\n",
    "        return config\n",
    "\n",
    "regularizer_weight=0.0004\n",
    "x_in= ks.Input(shape=(384, 384, 16,), dtype=float32)  # data image\n",
    "x = DomainNormalization(regularizer_weight=regularizer_weight)(x_in)\n",
    "model = ks.Model(inputs=[x_in], outputs=[x])\n",
    "model.save(\n",
    "    \"DomainNormalization.h5\",\n",
    "    save_format=\"h5\",\n",
    ")\n",
    "# model.summary()\n",
    "\n",
    "def domain_normalization_as_a_function(f_map, regularizer_weight):\n",
    "    # Normalizes a feature map according to the procedure presented by\n",
    "    # Zhang et.al. in \"Domain-invariant stereo matching networks\".\n",
    "    # Also see DomainNormalization in former implem of M4Depth.\n",
    "    # ks.layers.Layer.add_loss(regularizer(scale))\n",
    "\n",
    "    mean = tf.math.reduce_mean(f_map, axis=[1, 2], keepdims=True, name=None)\n",
    "    var = tf.math.reduce_variance(f_map, axis=[1, 2], keepdims=True, name=None)\n",
    "    normed = tf.math.l2_normalize((f_map - mean) / (var + 1e-12), axis=-1)\n",
    "    print('normed', normed.shape)\n",
    "    channels = f_map.shape[-1]\n",
    "    to_ret =  ks.layers.Dense([1, 1, 1, channels],\n",
    "                              use_bias=True,\n",
    "                              kernel_initializer=tf.ones_initializer(),\n",
    "                              bias_initializer=tf.zeros_initializer(),\n",
    "                              kernel_regularizer=tf.keras.regularizers.L2(regularizer_weight))\\\n",
    "        (normed)\n",
    "    return to_ret\n",
    "\n",
    "print(x_in.shape)\n",
    "x2 = domain_normalization_as_a_function(x_in, regularizer_weight)\n",
    "print(x2.shape)\n",
    "model2 = ks.Model(inputs=[x_in], outputs=[x2])\n",
    "model2.save(\n",
    "    \"domain_normalization_as_a_function.h5\",\n",
    "    save_format=\"h5\",\n",
    ")"
   ],
   "metadata": {
    "collapsed": false,
    "pycharm": {
     "name": "#%%\n"
    }
   }
  },
  {
   "cell_type": "code",
   "execution_count": null,
   "outputs": [],
   "source": [],
   "metadata": {
    "collapsed": false,
    "pycharm": {
     "name": "#%%\n"
    }
   }
  }
 ],
 "metadata": {
  "kernelspec": {
   "display_name": "Python 3",
   "language": "python",
   "name": "python3"
  },
  "language_info": {
   "codemirror_mode": {
    "name": "ipython",
    "version": 2
   },
   "file_extension": ".py",
   "mimetype": "text/x-python",
   "name": "python",
   "nbconvert_exporter": "python",
   "pygments_lexer": "ipython2",
   "version": "2.7.6"
  }
 },
 "nbformat": 4,
 "nbformat_minor": 0
}
