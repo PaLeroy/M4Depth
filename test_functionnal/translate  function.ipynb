{
 "cells": [
  {
   "cell_type": "code",
   "execution_count": 1,
   "metadata": {
    "collapsed": true,
    "pycharm": {
     "name": "#%%\n"
    }
   },
   "outputs": [
    {
     "name": "stderr",
     "output_type": "stream",
     "text": [
      "UsageError: Line magic function `%` not found.\n"
     ]
    }
   ],
   "source": [
    "% load_ext autoreload\n",
    "% autoreload 2"
   ]
  },
  {
   "cell_type": "code",
   "execution_count": 62,
   "outputs": [
    {
     "name": "stdout",
     "output_type": "stream",
     "text": [
      "get_coords_2d_input TensorShape([None, 6, 6, 192])\n",
      "ones_ TensorShape([None, 6, 6, 1])\n",
      "concat [-0.447941601 -0.00479075033 1]\n",
      "---\n",
      "\n",
      "concat [-0.447941601 -0.00479075033 1]\n",
      "---\n",
      "\n",
      "\n",
      "map_test_1 (1, 6, 6, 192)\n",
      "out_put_test_1 (1, 6, 6, 3, 1) (1, 6, 6, 192)\n",
      "out_put_test_1_former (1, 6, 6, 3, 1) (1, 6, 6, 192)\n",
      "tf.Tensor(\n",
      "[[-0.4479416 ]\n",
      " [-0.00479075]\n",
      " [ 1.        ]], shape=(3, 1), dtype=float32)\n",
      "tf.Tensor(\n",
      "[[-0.4479416 ]\n",
      " [-0.00479075]\n",
      " [ 1.        ]], shape=(3, 1), dtype=float32)\n",
      "\n",
      "get_coords_2d_input TensorShape([None, 6, 6, 192])\n",
      "ones_ TensorShape([None, 6, 6, 1])\n",
      "concat [0.302815229 -0.398105502 1]\n",
      "concat [0.302815229 -0.398105502 1]\n",
      "\n",
      "out_put_test_1 (50, 6, 6, 3, 1) (50, 6, 6, 192)\n",
      "out_put_test_1_former (50, 6, 6, 3, 1) (50, 6, 6, 192)\n",
      "\n"
     ]
    }
   ],
   "source": [
    "import numpy as np\n",
    "from utils.depth_operations_functionnal import get_coords_2d\n",
    "import tensorflow as tf\n",
    "from tensorflow import keras as ks, float32\n",
    "from keras import backend as K\n",
    "\n",
    "\n",
    "def duplicate_constant_along_batch_size(tensor_to_get_batch_size, constant):\n",
    "    return tf.fill(tf.shape(tensor_to_get_batch_size), 1)\n",
    "\n",
    "@tf.function\n",
    "def get_coords_2d_former(map, camera):\n",
    "    \"\"\" Creates a grid containing pixel coordinates normalized by the camera focal length \"\"\"\n",
    "\n",
    "    b, h, w, c = map.get_shape().as_list()\n",
    "    h_range = tf.range(0., h, 1.0, dtype=tf.float32) + 0.5\n",
    "    w_range = tf.range(0., w, 1.0, dtype=tf.float32) + 0.5\n",
    "    grid_x, grid_y = tf.meshgrid(w_range, h_range)\n",
    "    mesh = tf.reshape(tf.stack([grid_x, grid_y], axis=2), [1, h, w, 2]) - tf.reshape(camera[\"c\"], [b, 1, 1, 2])\n",
    "\n",
    "    divide = tf.divide(mesh, tf.reshape(camera[\"f\"], [b, 1, 1, 2]))\n",
    "\n",
    "    coords_2d = tf.concat([divide, tf.ones([b,h,w,1])], axis=-1)\n",
    "    tf.print(\"concat\", coords_2d[0, 0, 0])\n",
    "    coords_2d = tf.expand_dims(coords_2d, -1)\n",
    "    return coords_2d, mesh\n",
    "\n",
    "@tf.function\n",
    "def get_coords_2d(map, camera):\n",
    "    \"\"\" Creates a grid containing pixel coordinates normalized by the camera focal length \"\"\"\n",
    "    # Modif test\n",
    "    tf.print(\"get_coords_2d_input\", map.shape)\n",
    "    h, w = map.get_shape().as_list()[1:3]\n",
    "    h_range = tf.range(0., h, 1.0, dtype=tf.float32) + 0.5\n",
    "    w_range = tf.range(0., w, 1.0, dtype=tf.float32) + 0.5\n",
    "\n",
    "    grid_x, grid_y = tf.meshgrid(w_range, h_range)\n",
    "    mesh = tf.reshape(tf.stack([grid_x, grid_y], axis=2), [1, h, w, 2])\n",
    "\n",
    "    new_cam_c = ks.layers.Reshape((1, 1, 2,), )(camera[\"c\"])\n",
    "    new_cam_f = ks.layers.Reshape((1, 1, 2,), )(camera[\"f\"])\n",
    "\n",
    "    mesh = mesh - new_cam_c\n",
    "\n",
    "    divide = tf.divide(mesh, new_cam_f)\n",
    "\n",
    "    # ones_ = ks.layers.Reshape((h, w, 1,), )(tf.ones([1, h, w, 1]))\n",
    "    myarr = np.ones((1, h, w, 1)).astype('float32')\n",
    "    myconst = tf.convert_to_tensor(myarr)\n",
    "    def repeat_const(tensor, myconst):\n",
    "        shapes = tf.shape(tensor)\n",
    "        return tf.repeat(myconst, shapes[0], axis=0)\n",
    "\n",
    "    ones_ = tf.keras.layers.Lambda(lambda x: repeat_const(x, myconst))(map)\n",
    "    tf.print(\"ones_\", ones_.shape)\n",
    "    coords_2d = ks.layers.Concatenate()([divide, ones_])\n",
    "    tf.print(\"concat\", coords_2d[0, 0, 0])\n",
    "\n",
    "    coords_2d = tf.expand_dims(coords_2d, -1)\n",
    "    return coords_2d, mesh\n",
    "\n",
    "\n",
    "map_ = ks.Input(shape=(6, 6, 192,), dtype=float32)  # data image\n",
    "camera = {\"f\": ks.Input(shape=(1, 2,), dtype=float32),\n",
    "          \"c\": ks.Input(shape=(1, 2,), dtype=float32)}\n",
    "\n",
    "depth_curr_l_function = lambda x: get_coords_2d(x[0], x[1])\n",
    "depth_curr_l = ks.layers.Lambda(depth_curr_l_function)((map_, camera))\n",
    "\n",
    "model_full = ks.Model(inputs=[map_, camera],\n",
    "                      outputs=depth_curr_l)\n",
    "\n",
    "b=1\n",
    "map_test_1 = tf.random.uniform([b] + map_.shape[1:])\n",
    "camera_test_1 = {\"f\":  tf.random.uniform([b] + camera[\"f\"].shape[1:]),\n",
    "          \"c\":  tf.random.uniform([b] + camera[\"c\"].shape[1:])}\n",
    "\n",
    "out_put_test_1,_ = model_full((map_test_1,camera_test_1))\n",
    "print(\"---\")\n",
    "print()\n",
    "out_put_test_1_former,_ = get_coords_2d_former(map_test_1,camera_test_1)\n",
    "print(\"---\")\n",
    "print()\n",
    "print()\n",
    "print(\"map_test_1\", map_test_1.shape)\n",
    "print(\"out_put_test_1\", out_put_test_1.shape, map_test_1.shape)\n",
    "print(\"out_put_test_1_former\", out_put_test_1_former.shape, map_test_1.shape)\n",
    "print(out_put_test_1[0][0][0])\n",
    "print(out_put_test_1_former[0][0][0])\n",
    "print()\n",
    "b=50\n",
    "map_test_1 = tf.random.uniform([b] + map_.shape[1:])\n",
    "camera_test_1 = {\"f\":  tf.random.uniform([b] + camera[\"f\"].shape[1:]),\n",
    "          \"c\":  tf.random.uniform([b] + camera[\"c\"].shape[1:])}\n",
    "\n",
    "out_put_test_1,_ = model_full((map_test_1,camera_test_1))\n",
    "out_put_test_1_former,_ = get_coords_2d_former(map_test_1,camera_test_1)\n",
    "print()\n",
    "print(\"out_put_test_1\", out_put_test_1.shape, map_test_1.shape)\n",
    "print(\"out_put_test_1_former\", out_put_test_1_former.shape, map_test_1.shape)\n",
    "print()\n"
   ],
   "metadata": {
    "collapsed": false,
    "pycharm": {
     "name": "#%%\n"
    }
   }
  },
  {
   "cell_type": "code",
   "execution_count": null,
   "outputs": [],
   "source": [
    "\n"
   ],
   "metadata": {
    "collapsed": false,
    "pycharm": {
     "name": "#%%\n"
    }
   }
  }
 ],
 "metadata": {
  "kernelspec": {
   "display_name": "Python 3",
   "language": "python",
   "name": "python3"
  },
  "language_info": {
   "codemirror_mode": {
    "name": "ipython",
    "version": 2
   },
   "file_extension": ".py",
   "mimetype": "text/x-python",
   "name": "python",
   "nbconvert_exporter": "python",
   "pygments_lexer": "ipython2",
   "version": "2.7.6"
  }
 },
 "nbformat": 4,
 "nbformat_minor": 0
}