{
 "cells": [
  {
   "cell_type": "code",
   "execution_count": 2,
   "outputs": [],
   "source": [
    "import tensorflow as tf\n",
    "from tensorflow import keras as ks, float32\n",
    "import numpy as np\n"
   ],
   "metadata": {
    "collapsed": false,
    "pycharm": {
     "name": "#%%\n"
    }
   }
  },
  {
   "cell_type": "code",
   "execution_count": 13,
   "outputs": [
    {
     "name": "stdout",
     "output_type": "stream",
     "text": [
      "tf.Tensor(\n",
      "[[[0.2672612  0.5345224  0.8017837 ]\n",
      "  [0.26726124 0.5345225  0.8017837 ]\n",
      "  [0.26726124 0.5345225  0.8017837 ]]\n",
      "\n",
      " [[0.26726124 0.5345225  0.8017837 ]\n",
      "  [0.26726124 0.5345225  0.8017837 ]\n",
      "  [0.26726124 0.5345225  0.8017837 ]]\n",
      "\n",
      " [[0.26726124 0.5345225  0.8017837 ]\n",
      "  [0.26726124 0.5345225  0.8017837 ]\n",
      "  [0.26726124 0.5345225  0.8017837 ]]], shape=(3, 3, 3), dtype=float32)\n",
      "[[[0.2672612  0.5345224  0.8017837 ]\n",
      "  [0.26726124 0.5345225  0.8017837 ]\n",
      "  [0.26726124 0.5345225  0.8017837 ]]\n",
      "\n",
      " [[0.26726124 0.5345225  0.8017837 ]\n",
      "  [0.26726124 0.5345225  0.8017837 ]\n",
      "  [0.26726124 0.5345225  0.8017837 ]]\n",
      "\n",
      " [[0.26726124 0.5345225  0.8017837 ]\n",
      "  [0.26726124 0.5345225  0.8017837 ]\n",
      "  [0.26726124 0.5345225  0.8017837 ]]]\n",
      "tf.Tensor(\n",
      "[[[0.26726124 0.5345225  0.8017837 ]\n",
      "  [0.26726124 0.5345225  0.8017837 ]\n",
      "  [0.26726124 0.5345225  0.8017837 ]]\n",
      "\n",
      " [[0.26726124 0.5345225  0.8017837 ]\n",
      "  [0.26726124 0.5345225  0.8017837 ]\n",
      "  [0.26726124 0.5345225  0.8017837 ]]\n",
      "\n",
      " [[0.26726124 0.5345225  0.8017837 ]\n",
      "  [0.26726124 0.5345225  0.8017837 ]\n",
      "  [0.26726124 0.5345225  0.8017837 ]]], shape=(3, 3, 3), dtype=float32)\n",
      "tf.Tensor(\n",
      "[[[0.1 0.2 0.3]\n",
      "  [1.  2.  3. ]\n",
      "  [1.  2.  3. ]]\n",
      "\n",
      " [[1.  2.  3. ]\n",
      "  [1.  2.  3. ]\n",
      "  [1.  2.  3. ]]\n",
      "\n",
      " [[1.  2.  3. ]\n",
      "  [1.  2.  3. ]\n",
      "  [1.  2.  3. ]]], shape=(3, 3, 3), dtype=float32)\n"
     ]
    }
   ],
   "source": [
    "input_data = np.array(\n",
    "    [[[.1, .2, .3], [1., 2., 3.], [1., 2., 3.]],\n",
    "     [[1., 2., 3.], [1., 2., 3.], [1., 2., 3.]],\n",
    "     [[1., 2., 3.], [1., 2., 3.], [1., 2., 3.]]], dtype='float32')\n",
    "input2 = np.array(\n",
    "    [[[1, ], [1., ], [1.,]],\n",
    "     [[1., ], [1., ], [1.,]],\n",
    "     [[1., ], [1., ], [1.,]]], dtype='float32')\n",
    "#layer = tf.keras.layers.Normalization(mean=0, variance=0, axis=-1)\n",
    "function = lambda x: tf.linalg.normalize(x, axis=-1)[0]\n",
    "layer = tf.keras.layers.Lambda(\n",
    "    function\n",
    ")\n",
    "out_put1 = layer(input_data)\n",
    "out_put2 = ks.utils.normalize(input_data)\n",
    "out_put3 = tf.linalg.normalize(input_data, axis=-1)\n",
    "out_put4 = tf.math.l2_normalize(input_data, axis=-1)\n",
    "out_put5 = ks.layers.Normalization(axis=-1)(input_data)\n",
    "print(out_put1)\n",
    "print(out_put2)\n",
    "print(out_put4)\n",
    "print(out_put5)\n",
    "\n",
    "#\n"
   ],
   "metadata": {
    "collapsed": false,
    "pycharm": {
     "name": "#%%\n"
    }
   }
  }
 ],
 "metadata": {
  "kernelspec": {
   "display_name": "Python 3",
   "language": "python",
   "name": "python3"
  },
  "language_info": {
   "codemirror_mode": {
    "name": "ipython",
    "version": 2
   },
   "file_extension": ".py",
   "mimetype": "text/x-python",
   "name": "python",
   "nbconvert_exporter": "python",
   "pygments_lexer": "ipython2",
   "version": "2.7.6"
  }
 },
 "nbformat": 4,
 "nbformat_minor": 0
}