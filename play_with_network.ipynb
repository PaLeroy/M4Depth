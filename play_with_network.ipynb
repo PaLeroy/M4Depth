{
 "cells": [
  {
   "cell_type": "markdown",
   "source": [
    "# Results on small dataset with original network and saved param (low bc cpu on macbook)\n",
    "550/550 [==============================] - 295s 505ms/step - AbsRel: 0.0210 - SqRel: 0.4003 - RMSE: 2.6844 - RMSE_log: 0.0607 - Delta1: 0.9859 - Delta2: 0.9928 - Delta3: 0.9954\n",
    "\n",
    "21/21 [==============================] - 38s 1s/step - AbsRel: 0.0079 - SqRel: 0.0407 - RMSE: 1.4813 - RMSE_log: 0.0276 - Delta1: 0.9981 - Delta2: 0.9990 - Delta3: 0.9997"
   ],
   "metadata": {
    "collapsed": false,
    "pycharm": {
     "name": "#%% md\n"
    }
   }
  },
  {
   "cell_type": "code",
   "execution_count": 4,
   "outputs": [
    {
     "name": "stdout",
     "output_type": "stream",
     "text": [
      "The autoreload extension is already loaded. To reload it, use:\n",
      "  %reload_ext autoreload\n"
     ]
    }
   ],
   "source": [
    "%load_ext autoreload\n",
    "%autoreload 2"
   ],
   "metadata": {
    "collapsed": false,
    "pycharm": {
     "name": "#%%\n"
    }
   }
  },
  {
   "cell_type": "code",
   "execution_count": 5,
   "outputs": [],
   "source": [
    "from dataloaders.midair import DataLoaderMidAir as MidAir\n",
    "from dataloaders import DataloaderParameters\n",
    "\n",
    "param = DataloaderParameters({\n",
    "                               '_comment': '/Users/pascalleroy/Documents/m4depth/M4Depth/relative paths should be written relative to this file',\n",
    "                                 'midair': '/Users/pascalleroy/Documents/m4depth/M4Depth/datasets/MidAir',\n",
    "                                 'kitti-raw': '/Users/pascalleroy/Documents/m4depth/M4Depth/datasets/Kitti',\n",
    "                                 'tartanair': '/Users/pascalleroy/Documents/m4depth/M4Depth/datasets/TartanAir'},\n",
    "                             'data/midair/small_test_data',\n",
    "                             None,\n",
    "                             4,\n",
    "                             True)\n",
    "\n",
    "chosen_dataloader = MidAir()\n",
    "chosen_dataloader.get_dataset(\"eval\", param, batch_size=1)\n",
    "data = chosen_dataloader.dataset"
   ],
   "metadata": {
    "collapsed": false,
    "pycharm": {
     "name": "#%%\n"
    }
   }
  },
  {
   "cell_type": "code",
   "execution_count": 15,
   "outputs": [
    {
     "name": "stdout",
     "output_type": "stream",
     "text": [
      "2.9.1\n",
      "[]\n",
      "Checkpoint save directory: pretrained_weights/midair/best\n",
      "Latest checkpoint found: pretrained_weights/midair/best/cp-0071.ckpt\n",
      "Restoring weights from pretrained_weights/midair/best/cp-0071.ckpt\n",
      "Seq sample 0\n"
     ]
    },
    {
     "name": "stderr",
     "output_type": "stream",
     "text": [
      "Temporal memory instanciation\n"
     ]
    },
    {
     "ename": "AttributeError",
     "evalue": "in user code:\n\n    File \"/Users/pascalleroy/Documents/m4depth/M4Depth/env/lib/python3.8/site-packages/keras/engine/training.py\", line 1557, in test_function  *\n        return step_function(self, iterator)\n    File \"/Users/pascalleroy/Documents/m4depth/M4Depth/m4depth_network.py\", line 457, in test_step  *\n        preds = self([[data], data[\"camera\"]], training=False)\n    File \"/Users/pascalleroy/Documents/m4depth/M4Depth/env/lib/python3.8/site-packages/keras/utils/traceback_utils.py\", line 67, in error_handler  **\n        raise e.with_traceback(filtered_tb) from None\n    File \"/var/folders/z_/cgwpz9z57_l8flrcm90f9p580000gn/T/__autograph_generated_fileyprrsl8z.py\", line 27, in tf__call\n        d_maps_pyrs = ag__.converted_call(ag__.ld(self).d_estimator, (ag__.ld(f_maps_pyrs), ag__.ld(traj_samples), ag__.ld(camera), ag__.ld(training)), None, fscope)\n    File \"/var/folders/z_/cgwpz9z57_l8flrcm90f9p580000gn/T/__autograph_generated_filekg3nkuw8.py\", line 115, in tf__call\n        ag__.for_stmt(ag__.converted_call(ag__.ld(enumerate), (ag__.converted_call(ag__.ld(zip), (ag__.ld(f_maps_pyrs), ag__.ld(traj_samples)), None, fscope),), None, fscope), None, loop_body_1, get_state_4, set_state_4, (), {'iterate_names': '(seq_i, (f_pyr_curr, sample))'})\n    File \"/var/folders/z_/cgwpz9z57_l8flrcm90f9p580000gn/T/__autograph_generated_filekg3nkuw8.py\", line 96, in loop_body_1\n        ag__.for_stmt(ag__.converted_call(ag__.ld(enumerate), (ag__.converted_call(ag__.ld(zip), (ag__.ld(f_pyr_curr)[::(- 1)], ag__.ld(self).levels[::(- 1)]), None, fscope),), None, fscope), None, loop_body, get_state_3, set_state_3, ('d_est_curr', 'cnter'), {'iterate_names': '(l, (f_maps_curr, level))'})\n    File \"/var/folders/z_/cgwpz9z57_l8flrcm90f9p580000gn/T/__autograph_generated_filekg3nkuw8.py\", line 93, in loop_body\n        ag__.if_stmt((ag__.ld(d_est_curr) is None), if_body_2, else_body_2, get_state_2, set_state_2, ('d_est_curr',), 1)\n    File \"/var/folders/z_/cgwpz9z57_l8flrcm90f9p580000gn/T/__autograph_generated_filekg3nkuw8.py\", line 88, in if_body_2\n        d_est_curr = [ag__.converted_call(ag__.ld(level), (ag__.ld(f_maps_curr), None, ag__.ld(local_rot), ag__.ld(local_trans), ag__.ld(local_camera), ag__.ld(new_traj)), dict(prev_f_maps=ag__.ld(f_maps_prev), prev_t_depth=ag__.ld(d_est_prev)), fscope)]\n    File \"/var/folders/z_/cgwpz9z57_l8flrcm90f9p580000gn/T/__autograph_generated_file7ua2xfn1.py\", line 226, in tf__call\n        ag__.if_stmt(ag__.or_((lambda : (ag__.ld(prev_t_depth) is None)), (lambda : ag__.ld(new_traj)[0])), if_body_10, else_body_10, get_state_10, set_state_10, ('do_return', 'retval_', 'prev_t_depth'), 2)\n    File \"/var/folders/z_/cgwpz9z57_l8flrcm90f9p580000gn/T/__autograph_generated_file7ua2xfn1.py\", line 172, in else_body_10\n        ag__.if_stmt(ag__.ld(self).ablation.SNCV, if_body_7, else_body_7, get_state_7, set_state_7, (), 0)\n    File \"/var/folders/z_/cgwpz9z57_l8flrcm90f9p580000gn/T/__autograph_generated_file7ua2xfn1.py\", line 166, in if_body_7\n        autocorr = ag__.converted_call(ag__.ld(cost_volume), (ag__.ld(curr_f_maps), ag__.ld(curr_f_maps), 3), dict(nbre_cuts=ag__.ld(nbre_cuts)), fscope)\n    File \"/var/folders/z_/cgwpz9z57_l8flrcm90f9p580000gn/T/__autograph_generated_filenh3ub0q3.py\", line 15, in tf__get_disparity_sweeping_cv\n        disp = ag__.converted_call(ag__.ld(tile_in_batch), (ag__.ld(disp), ag__.ld(nbre_copies)), None, fscope)\n    File \"/var/folders/z_/cgwpz9z57_l8flrcm90f9p580000gn/T/__autograph_generated_file80tyrwcs.py\", line 10, in tf__tile_in_batch\n        map_shape = ag__.converted_call(ag__.converted_call(ag__.ld(map).get_shape, (), None, fscope).as_list, (), None, fscope)\n\n    AttributeError: Exception encountered when calling layer \"m4_depth_10\" (type M4Depth).\n    \n    in user code:\n    \n        File \"/Users/pascalleroy/Documents/m4depth/M4Depth/m4depth_network.py\", line 362, in call  *\n            d_maps_pyrs = self.d_estimator(f_maps_pyrs, traj_samples, camera, training)\n        File \"/Users/pascalleroy/Documents/m4depth/M4Depth/env/lib/python3.8/site-packages/keras/utils/traceback_utils.py\", line 67, in error_handler  **\n            raise e.with_traceback(filtered_tb) from None\n        File \"/var/folders/z_/cgwpz9z57_l8flrcm90f9p580000gn/T/__autograph_generated_filekg3nkuw8.py\", line 115, in tf__call\n            ag__.for_stmt(ag__.converted_call(ag__.ld(enumerate), (ag__.converted_call(ag__.ld(zip), (ag__.ld(f_maps_pyrs), ag__.ld(traj_samples)), None, fscope),), None, fscope), None, loop_body_1, get_state_4, set_state_4, (), {'iterate_names': '(seq_i, (f_pyr_curr, sample))'})\n        File \"/var/folders/z_/cgwpz9z57_l8flrcm90f9p580000gn/T/__autograph_generated_filekg3nkuw8.py\", line 96, in loop_body_1\n            ag__.for_stmt(ag__.converted_call(ag__.ld(enumerate), (ag__.converted_call(ag__.ld(zip), (ag__.ld(f_pyr_curr)[::(- 1)], ag__.ld(self).levels[::(- 1)]), None, fscope),), None, fscope), None, loop_body, get_state_3, set_state_3, ('d_est_curr', 'cnter'), {'iterate_names': '(l, (f_maps_curr, level))'})\n        File \"/var/folders/z_/cgwpz9z57_l8flrcm90f9p580000gn/T/__autograph_generated_filekg3nkuw8.py\", line 93, in loop_body\n            ag__.if_stmt((ag__.ld(d_est_curr) is None), if_body_2, else_body_2, get_state_2, set_state_2, ('d_est_curr',), 1)\n        File \"/var/folders/z_/cgwpz9z57_l8flrcm90f9p580000gn/T/__autograph_generated_filekg3nkuw8.py\", line 88, in if_body_2\n            d_est_curr = [ag__.converted_call(ag__.ld(level), (ag__.ld(f_maps_curr), None, ag__.ld(local_rot), ag__.ld(local_trans), ag__.ld(local_camera), ag__.ld(new_traj)), dict(prev_f_maps=ag__.ld(f_maps_prev), prev_t_depth=ag__.ld(d_est_prev)), fscope)]\n        File \"/var/folders/z_/cgwpz9z57_l8flrcm90f9p580000gn/T/__autograph_generated_file7ua2xfn1.py\", line 226, in tf__call\n            ag__.if_stmt(ag__.or_((lambda : (ag__.ld(prev_t_depth) is None)), (lambda : ag__.ld(new_traj)[0])), if_body_10, else_body_10, get_state_10, set_state_10, ('do_return', 'retval_', 'prev_t_depth'), 2)\n        File \"/var/folders/z_/cgwpz9z57_l8flrcm90f9p580000gn/T/__autograph_generated_file7ua2xfn1.py\", line 172, in else_body_10\n            ag__.if_stmt(ag__.ld(self).ablation.SNCV, if_body_7, else_body_7, get_state_7, set_state_7, (), 0)\n        File \"/var/folders/z_/cgwpz9z57_l8flrcm90f9p580000gn/T/__autograph_generated_file7ua2xfn1.py\", line 166, in if_body_7\n            autocorr = ag__.converted_call(ag__.ld(cost_volume), (ag__.ld(curr_f_maps), ag__.ld(curr_f_maps), 3), dict(nbre_cuts=ag__.ld(nbre_cuts)), fscope)\n        File \"/var/folders/z_/cgwpz9z57_l8flrcm90f9p580000gn/T/__autograph_generated_filenh3ub0q3.py\", line 15, in tf__get_disparity_sweeping_cv\n            disp = ag__.converted_call(ag__.ld(tile_in_batch), (ag__.ld(disp), ag__.ld(nbre_copies)), None, fscope)\n        File \"/var/folders/z_/cgwpz9z57_l8flrcm90f9p580000gn/T/__autograph_generated_file80tyrwcs.py\", line 10, in tf__tile_in_batch\n            map_shape = ag__.converted_call(ag__.converted_call(ag__.ld(map).get_shape, (), None, fscope).as_list, (), None, fscope)\n    \n        AttributeError: Exception encountered when calling layer \"depth_estimator_pyramid_10\" (type DepthEstimatorPyramid).\n        \n        in user code:\n        \n            File \"/Users/pascalleroy/Documents/m4depth/M4Depth/m4depth_network.py\", line 314, in call  *\n                d_est_curr = [level(f_maps_curr, None, local_rot, local_trans, local_camera, new_traj,\n            File \"/Users/pascalleroy/Documents/m4depth/M4Depth/env/lib/python3.8/site-packages/keras/utils/traceback_utils.py\", line 67, in error_handler  **\n                raise e.with_traceback(filtered_tb) from None\n            File \"/var/folders/z_/cgwpz9z57_l8flrcm90f9p580000gn/T/__autograph_generated_file7ua2xfn1.py\", line 226, in tf__call\n                ag__.if_stmt(ag__.or_((lambda : (ag__.ld(prev_t_depth) is None)), (lambda : ag__.ld(new_traj)[0])), if_body_10, else_body_10, get_state_10, set_state_10, ('do_return', 'retval_', 'prev_t_depth'), 2)\n            File \"/var/folders/z_/cgwpz9z57_l8flrcm90f9p580000gn/T/__autograph_generated_file7ua2xfn1.py\", line 172, in else_body_10\n                ag__.if_stmt(ag__.ld(self).ablation.SNCV, if_body_7, else_body_7, get_state_7, set_state_7, (), 0)\n            File \"/var/folders/z_/cgwpz9z57_l8flrcm90f9p580000gn/T/__autograph_generated_file7ua2xfn1.py\", line 166, in if_body_7\n                autocorr = ag__.converted_call(ag__.ld(cost_volume), (ag__.ld(curr_f_maps), ag__.ld(curr_f_maps), 3), dict(nbre_cuts=ag__.ld(nbre_cuts)), fscope)\n            File \"/var/folders/z_/cgwpz9z57_l8flrcm90f9p580000gn/T/__autograph_generated_filenh3ub0q3.py\", line 15, in tf__get_disparity_sweeping_cv\n                disp = ag__.converted_call(ag__.ld(tile_in_batch), (ag__.ld(disp), ag__.ld(nbre_copies)), None, fscope)\n            File \"/var/folders/z_/cgwpz9z57_l8flrcm90f9p580000gn/T/__autograph_generated_file80tyrwcs.py\", line 10, in tf__tile_in_batch\n                map_shape = ag__.converted_call(ag__.converted_call(ag__.ld(map).get_shape, (), None, fscope).as_list, (), None, fscope)\n        \n            AttributeError: Exception encountered when calling layer \"depth_estimator_level_65\" (type DepthEstimatorLevel).\n            \n            in user code:\n            \n                File \"/Users/pascalleroy/Documents/m4depth/M4Depth/m4depth_network.py\", line 232, in call  *\n                    autocorr = cost_volume(curr_f_maps, curr_f_maps, 3, nbre_cuts=nbre_cuts)\n                File \"/Users/pascalleroy/Documents/m4depth/M4Depth/utils/depth_operations_functionnal.py\", line 318, in get_disparity_sweeping_cv  *\n                    disp = tile_in_batch(disp, nbre_copies)\n                File \"/Users/pascalleroy/Documents/m4depth/M4Depth/utils/depth_operations_functionnal.py\", line 298, in tile_in_batch  *\n                    map_shape = map.get_shape().as_list()\n            \n                AttributeError: 'str' object has no attribute 'get_shape'\n            \n            \n            Call arguments received by layer \"depth_estimator_level_65\" (type DepthEstimatorLevel):\n              • curr_f_maps=tf.Tensor(shape=(1, 6, 6, 192), dtype=float32)\n              • prev_l_est=None\n              • rot=tf.Tensor(shape=(1, 4), dtype=float32)\n              • trans=tf.Tensor(shape=(1, 3), dtype=float32)\n              • camera={'f': 'tf.Tensor(shape=(1, 2), dtype=float32)', 'c': 'tf.Tensor(shape=(1, 2), dtype=float32)'}\n              • new_traj=tf.Tensor(shape=(1,), dtype=bool)\n              • prev_f_maps=None\n              • prev_t_depth=None\n        \n        \n        Call arguments received by layer \"depth_estimator_pyramid_10\" (type DepthEstimatorPyramid):\n          • f_maps_pyrs=[['tf.Tensor(shape=(1, 192, 192, 16), dtype=float32)', 'tf.Tensor(shape=(1, 96, 96, 32), dtype=float32)', 'tf.Tensor(shape=(1, 48, 48, 64), dtype=float32)', 'tf.Tensor(shape=(1, 24, 24, 96), dtype=float32)', 'tf.Tensor(shape=(1, 12, 12, 128), dtype=float32)', 'tf.Tensor(shape=(1, 6, 6, 192), dtype=float32)']]\n          • traj_samples=[{'camera': {'f': 'tf.Tensor(shape=(1, 2), dtype=float32)', 'c': 'tf.Tensor(shape=(1, 2), dtype=float32)'}, 'RGB_im': 'tf.Tensor(shape=(1, 384, 384, 3), dtype=float32)', 'rot': 'tf.Tensor(shape=(1, 4), dtype=float32)', 'trans': 'tf.Tensor(shape=(1, 3), dtype=float32)', 'new_traj': 'tf.Tensor(shape=(1,), dtype=bool)', 'depth': 'tf.Tensor(shape=(1, 384, 384, 1), dtype=float32)'}]\n          • camera={'f': 'tf.Tensor(shape=(1, 2), dtype=float32)', 'c': 'tf.Tensor(shape=(1, 2), dtype=float32)'}\n          • training=False\n    \n    \n    Call arguments received by layer \"m4_depth_10\" (type M4Depth):\n      • data=[[{'camera': {'f': 'tf.Tensor(shape=(1, 2), dtype=float32)', 'c': 'tf.Tensor(shape=(1, 2), dtype=float32)'}, 'RGB_im': 'tf.Tensor(shape=(1, 384, 384, 3), dtype=float32)', 'rot': 'tf.Tensor(shape=(1, 4), dtype=float32)', 'trans': 'tf.Tensor(shape=(1, 3), dtype=float32)', 'new_traj': 'tf.Tensor(shape=(1,), dtype=bool)', 'depth': 'tf.Tensor(shape=(1, 384, 384, 1), dtype=float32)'}], {'f': 'tf.Tensor(shape=(1, 2), dtype=float32)', 'c': 'tf.Tensor(shape=(1, 2), dtype=float32)'}]\n      • training=False\n",
     "output_type": "error",
     "traceback": [
      "\u001B[0;31m---------------------------------------------------------------------------\u001B[0m",
      "\u001B[0;31mAttributeError\u001B[0m                            Traceback (most recent call last)",
      "Input \u001B[0;32mIn [15]\u001B[0m, in \u001B[0;36m<cell line: 32>\u001B[0;34m()\u001B[0m\n\u001B[1;32m     23\u001B[0m model_checkpoint_cbk \u001B[38;5;241m=\u001B[39m CustomCheckpointCallback(weights_dir,\n\u001B[1;32m     24\u001B[0m                                                 resume_training\u001B[38;5;241m=\u001B[39m\u001B[38;5;28;01mTrue\u001B[39;00m)\n\u001B[1;32m     25\u001B[0m model\u001B[38;5;241m.\u001B[39mcompile(metrics\u001B[38;5;241m=\u001B[39m[AbsRelError(),\n\u001B[1;32m     26\u001B[0m                        SqRelError(),\n\u001B[1;32m     27\u001B[0m                        RootMeanSquaredError(),\n\u001B[1;32m     28\u001B[0m                        RootMeanSquaredLogError(),\n\u001B[1;32m     29\u001B[0m                        ThresholdRelError(\u001B[38;5;241m1\u001B[39m), ThresholdRelError(\u001B[38;5;241m2\u001B[39m),\n\u001B[1;32m     30\u001B[0m                        ThresholdRelError(\u001B[38;5;241m3\u001B[39m)])\n\u001B[0;32m---> 32\u001B[0m metrics \u001B[38;5;241m=\u001B[39m \u001B[43mmodel\u001B[49m\u001B[38;5;241;43m.\u001B[39;49m\u001B[43mevaluate\u001B[49m\u001B[43m(\u001B[49m\u001B[43mdata\u001B[49m\u001B[43m,\u001B[49m\u001B[43m \u001B[49m\u001B[43mcallbacks\u001B[49m\u001B[38;5;241;43m=\u001B[39;49m\u001B[43m[\u001B[49m\u001B[43mmodel_checkpoint_cbk\u001B[49m\u001B[43m]\u001B[49m\u001B[43m)\u001B[49m\n\u001B[1;32m     33\u001B[0m \u001B[38;5;28mprint\u001B[39m(metrics)\n",
      "File \u001B[0;32m~/Documents/m4depth/M4Depth/env/lib/python3.8/site-packages/keras/utils/traceback_utils.py:67\u001B[0m, in \u001B[0;36mfilter_traceback.<locals>.error_handler\u001B[0;34m(*args, **kwargs)\u001B[0m\n\u001B[1;32m     65\u001B[0m \u001B[38;5;28;01mexcept\u001B[39;00m \u001B[38;5;167;01mException\u001B[39;00m \u001B[38;5;28;01mas\u001B[39;00m e:  \u001B[38;5;66;03m# pylint: disable=broad-except\u001B[39;00m\n\u001B[1;32m     66\u001B[0m   filtered_tb \u001B[38;5;241m=\u001B[39m _process_traceback_frames(e\u001B[38;5;241m.\u001B[39m__traceback__)\n\u001B[0;32m---> 67\u001B[0m   \u001B[38;5;28;01mraise\u001B[39;00m e\u001B[38;5;241m.\u001B[39mwith_traceback(filtered_tb) \u001B[38;5;28;01mfrom\u001B[39;00m \u001B[38;5;28mNone\u001B[39m\n\u001B[1;32m     68\u001B[0m \u001B[38;5;28;01mfinally\u001B[39;00m:\n\u001B[1;32m     69\u001B[0m   \u001B[38;5;28;01mdel\u001B[39;00m filtered_tb\n",
      "File \u001B[0;32m/var/folders/z_/cgwpz9z57_l8flrcm90f9p580000gn/T/__autograph_generated_fileb0nheu0j.py:15\u001B[0m, in \u001B[0;36mouter_factory.<locals>.inner_factory.<locals>.tf__test_function\u001B[0;34m(iterator)\u001B[0m\n\u001B[1;32m     13\u001B[0m \u001B[38;5;28;01mtry\u001B[39;00m:\n\u001B[1;32m     14\u001B[0m     do_return \u001B[38;5;241m=\u001B[39m \u001B[38;5;28;01mTrue\u001B[39;00m\n\u001B[0;32m---> 15\u001B[0m     retval_ \u001B[38;5;241m=\u001B[39m ag__\u001B[38;5;241m.\u001B[39mconverted_call(ag__\u001B[38;5;241m.\u001B[39mld(step_function), (ag__\u001B[38;5;241m.\u001B[39mld(\u001B[38;5;28mself\u001B[39m), ag__\u001B[38;5;241m.\u001B[39mld(iterator)), \u001B[38;5;28;01mNone\u001B[39;00m, fscope)\n\u001B[1;32m     16\u001B[0m \u001B[38;5;28;01mexcept\u001B[39;00m:\n\u001B[1;32m     17\u001B[0m     do_return \u001B[38;5;241m=\u001B[39m \u001B[38;5;28;01mFalse\u001B[39;00m\n",
      "File \u001B[0;32m/var/folders/z_/cgwpz9z57_l8flrcm90f9p580000gn/T/__autograph_generated_fileryrov91c.py:90\u001B[0m, in \u001B[0;36mouter_factory.<locals>.inner_factory.<locals>.tf__test_step\u001B[0;34m(self, data)\u001B[0m\n\u001B[1;32m     88\u001B[0m value_list \u001B[38;5;241m=\u001B[39m ag__\u001B[38;5;241m.\u001B[39mUndefined(\u001B[38;5;124m'\u001B[39m\u001B[38;5;124mvalue_list\u001B[39m\u001B[38;5;124m'\u001B[39m)\n\u001B[1;32m     89\u001B[0m i \u001B[38;5;241m=\u001B[39m ag__\u001B[38;5;241m.\u001B[39mUndefined(\u001B[38;5;124m'\u001B[39m\u001B[38;5;124mi\u001B[39m\u001B[38;5;124m'\u001B[39m)\n\u001B[0;32m---> 90\u001B[0m ag__\u001B[38;5;241m.\u001B[39mif_stmt((ag__\u001B[38;5;241m.\u001B[39mld(data_format) \u001B[38;5;241m==\u001B[39m \u001B[38;5;241m5\u001B[39m), if_body, else_body, get_state_3, set_state_3, (\u001B[38;5;124m'\u001B[39m\u001B[38;5;124mest\u001B[39m\u001B[38;5;124m'\u001B[39m, \u001B[38;5;124m'\u001B[39m\u001B[38;5;124mgt\u001B[39m\u001B[38;5;124m'\u001B[39m, \u001B[38;5;124m'\u001B[39m\u001B[38;5;124mnew_traj\u001B[39m\u001B[38;5;124m'\u001B[39m), \u001B[38;5;241m3\u001B[39m)\n\u001B[1;32m     91\u001B[0m \u001B[38;5;28;01mwith\u001B[39;00m ag__\u001B[38;5;241m.\u001B[39mld(tf)\u001B[38;5;241m.\u001B[39mname_scope(\u001B[38;5;124m'\u001B[39m\u001B[38;5;124mmetrics\u001B[39m\u001B[38;5;124m'\u001B[39m):\n\u001B[1;32m     92\u001B[0m     max_d \u001B[38;5;241m=\u001B[39m \u001B[38;5;241m80.0\u001B[39m\n",
      "File \u001B[0;32m/var/folders/z_/cgwpz9z57_l8flrcm90f9p580000gn/T/__autograph_generated_fileryrov91c.py:72\u001B[0m, in \u001B[0;36mouter_factory.<locals>.inner_factory.<locals>.tf__test_step.<locals>.else_body\u001B[0;34m()\u001B[0m\n\u001B[1;32m     70\u001B[0m \u001B[38;5;28;01mdef\u001B[39;00m \u001B[38;5;21melse_body\u001B[39m():\n\u001B[1;32m     71\u001B[0m     \u001B[38;5;28;01mnonlocal\u001B[39;00m new_traj, gt, est\n\u001B[0;32m---> 72\u001B[0m     preds \u001B[38;5;241m=\u001B[39m \u001B[43mag__\u001B[49m\u001B[38;5;241;43m.\u001B[39;49m\u001B[43mconverted_call\u001B[49m\u001B[43m(\u001B[49m\u001B[43mag__\u001B[49m\u001B[38;5;241;43m.\u001B[39;49m\u001B[43mld\u001B[49m\u001B[43m(\u001B[49m\u001B[38;5;28;43mself\u001B[39;49m\u001B[43m)\u001B[49m\u001B[43m,\u001B[49m\u001B[43m \u001B[49m\u001B[43m(\u001B[49m\u001B[43m[\u001B[49m\u001B[43m[\u001B[49m\u001B[43mag__\u001B[49m\u001B[38;5;241;43m.\u001B[39;49m\u001B[43mld\u001B[49m\u001B[43m(\u001B[49m\u001B[43mdata\u001B[49m\u001B[43m)\u001B[49m\u001B[43m]\u001B[49m\u001B[43m,\u001B[49m\u001B[43m \u001B[49m\u001B[43mag__\u001B[49m\u001B[38;5;241;43m.\u001B[39;49m\u001B[43mld\u001B[49m\u001B[43m(\u001B[49m\u001B[43mdata\u001B[49m\u001B[43m)\u001B[49m\u001B[43m[\u001B[49m\u001B[38;5;124;43m'\u001B[39;49m\u001B[38;5;124;43mcamera\u001B[39;49m\u001B[38;5;124;43m'\u001B[39;49m\u001B[43m]\u001B[49m\u001B[43m]\u001B[49m\u001B[43m,\u001B[49m\u001B[43m)\u001B[49m\u001B[43m,\u001B[49m\u001B[43m \u001B[49m\u001B[38;5;28;43mdict\u001B[39;49m\u001B[43m(\u001B[49m\u001B[43mtraining\u001B[49m\u001B[38;5;241;43m=\u001B[39;49m\u001B[38;5;28;43;01mFalse\u001B[39;49;00m\u001B[43m)\u001B[49m\u001B[43m,\u001B[49m\u001B[43m \u001B[49m\u001B[43mfscope\u001B[49m\u001B[43m)\u001B[49m\n\u001B[1;32m     73\u001B[0m     gt \u001B[38;5;241m=\u001B[39m ag__\u001B[38;5;241m.\u001B[39mld(data)[\u001B[38;5;124m'\u001B[39m\u001B[38;5;124mdepth\u001B[39m\u001B[38;5;124m'\u001B[39m]\n\u001B[1;32m     74\u001B[0m     est \u001B[38;5;241m=\u001B[39m ag__\u001B[38;5;241m.\u001B[39mld(preds)[\u001B[38;5;124m'\u001B[39m\u001B[38;5;124mdepth\u001B[39m\u001B[38;5;124m'\u001B[39m]\n",
      "File \u001B[0;32m/var/folders/z_/cgwpz9z57_l8flrcm90f9p580000gn/T/__autograph_generated_fileyprrsl8z.py:27\u001B[0m, in \u001B[0;36mouter_factory.<locals>.inner_factory.<locals>.tf__call\u001B[0;34m(self, data, training)\u001B[0m\n\u001B[1;32m     25\u001B[0m sample \u001B[38;5;241m=\u001B[39m ag__\u001B[38;5;241m.\u001B[39mUndefined(\u001B[38;5;124m'\u001B[39m\u001B[38;5;124msample\u001B[39m\u001B[38;5;124m'\u001B[39m)\n\u001B[1;32m     26\u001B[0m ag__\u001B[38;5;241m.\u001B[39mfor_stmt(ag__\u001B[38;5;241m.\u001B[39mld(traj_samples), \u001B[38;5;28;01mNone\u001B[39;00m, loop_body, get_state, set_state, (), {\u001B[38;5;124m'\u001B[39m\u001B[38;5;124miterate_names\u001B[39m\u001B[38;5;124m'\u001B[39m: \u001B[38;5;124m'\u001B[39m\u001B[38;5;124msample\u001B[39m\u001B[38;5;124m'\u001B[39m})\n\u001B[0;32m---> 27\u001B[0m d_maps_pyrs \u001B[38;5;241m=\u001B[39m ag__\u001B[38;5;241m.\u001B[39mconverted_call(ag__\u001B[38;5;241m.\u001B[39mld(\u001B[38;5;28mself\u001B[39m)\u001B[38;5;241m.\u001B[39md_estimator, (ag__\u001B[38;5;241m.\u001B[39mld(f_maps_pyrs), ag__\u001B[38;5;241m.\u001B[39mld(traj_samples), ag__\u001B[38;5;241m.\u001B[39mld(camera), ag__\u001B[38;5;241m.\u001B[39mld(training)), \u001B[38;5;28;01mNone\u001B[39;00m, fscope)\n\u001B[1;32m     29\u001B[0m \u001B[38;5;28;01mdef\u001B[39;00m \u001B[38;5;21mget_state_1\u001B[39m():\n\u001B[1;32m     30\u001B[0m     \u001B[38;5;28;01mreturn\u001B[39;00m (do_return, retval_)\n",
      "File \u001B[0;32m/var/folders/z_/cgwpz9z57_l8flrcm90f9p580000gn/T/__autograph_generated_filekg3nkuw8.py:115\u001B[0m, in \u001B[0;36mouter_factory.<locals>.inner_factory.<locals>.tf__call\u001B[0;34m(self, f_maps_pyrs, traj_samples, camera, training)\u001B[0m\n\u001B[1;32m    113\u001B[0m sample \u001B[38;5;241m=\u001B[39m ag__\u001B[38;5;241m.\u001B[39mUndefined(\u001B[38;5;124m'\u001B[39m\u001B[38;5;124msample\u001B[39m\u001B[38;5;124m'\u001B[39m)\n\u001B[1;32m    114\u001B[0m local_rot \u001B[38;5;241m=\u001B[39m ag__\u001B[38;5;241m.\u001B[39mUndefined(\u001B[38;5;124m'\u001B[39m\u001B[38;5;124mlocal_rot\u001B[39m\u001B[38;5;124m'\u001B[39m)\n\u001B[0;32m--> 115\u001B[0m ag__\u001B[38;5;241m.\u001B[39mfor_stmt(ag__\u001B[38;5;241m.\u001B[39mconverted_call(ag__\u001B[38;5;241m.\u001B[39mld(\u001B[38;5;28menumerate\u001B[39m), (ag__\u001B[38;5;241m.\u001B[39mconverted_call(ag__\u001B[38;5;241m.\u001B[39mld(\u001B[38;5;28mzip\u001B[39m), (ag__\u001B[38;5;241m.\u001B[39mld(f_maps_pyrs), ag__\u001B[38;5;241m.\u001B[39mld(traj_samples)), \u001B[38;5;28;01mNone\u001B[39;00m, fscope),), \u001B[38;5;28;01mNone\u001B[39;00m, fscope), \u001B[38;5;28;01mNone\u001B[39;00m, loop_body_1, get_state_4, set_state_4, (), {\u001B[38;5;124m'\u001B[39m\u001B[38;5;124miterate_names\u001B[39m\u001B[38;5;124m'\u001B[39m: \u001B[38;5;124m'\u001B[39m\u001B[38;5;124m(seq_i, (f_pyr_curr, sample))\u001B[39m\u001B[38;5;124m'\u001B[39m})\n\u001B[1;32m    116\u001B[0m \u001B[38;5;28;01mtry\u001B[39;00m:\n\u001B[1;32m    117\u001B[0m     do_return \u001B[38;5;241m=\u001B[39m \u001B[38;5;28;01mTrue\u001B[39;00m\n",
      "File \u001B[0;32m/var/folders/z_/cgwpz9z57_l8flrcm90f9p580000gn/T/__autograph_generated_filekg3nkuw8.py:96\u001B[0m, in \u001B[0;36mouter_factory.<locals>.inner_factory.<locals>.tf__call.<locals>.loop_body_1\u001B[0;34m(itr_1)\u001B[0m\n\u001B[1;32m     94\u001B[0m     cnter \u001B[38;5;241m=\u001B[39m ag__\u001B[38;5;241m.\u001B[39mld(cnter)\n\u001B[1;32m     95\u001B[0m     cnter \u001B[38;5;241m-\u001B[39m\u001B[38;5;241m=\u001B[39m \u001B[38;5;241m1.0\u001B[39m\n\u001B[0;32m---> 96\u001B[0m ag__\u001B[38;5;241m.\u001B[39mfor_stmt(ag__\u001B[38;5;241m.\u001B[39mconverted_call(ag__\u001B[38;5;241m.\u001B[39mld(\u001B[38;5;28menumerate\u001B[39m), (ag__\u001B[38;5;241m.\u001B[39mconverted_call(ag__\u001B[38;5;241m.\u001B[39mld(\u001B[38;5;28mzip\u001B[39m), (ag__\u001B[38;5;241m.\u001B[39mld(f_pyr_curr)[::(\u001B[38;5;241m-\u001B[39m \u001B[38;5;241m1\u001B[39m)], ag__\u001B[38;5;241m.\u001B[39mld(\u001B[38;5;28mself\u001B[39m)\u001B[38;5;241m.\u001B[39mlevels[::(\u001B[38;5;241m-\u001B[39m \u001B[38;5;241m1\u001B[39m)]), \u001B[38;5;28;01mNone\u001B[39;00m, fscope),), \u001B[38;5;28;01mNone\u001B[39;00m, fscope), \u001B[38;5;28;01mNone\u001B[39;00m, loop_body, get_state_3, set_state_3, (\u001B[38;5;124m'\u001B[39m\u001B[38;5;124md_est_curr\u001B[39m\u001B[38;5;124m'\u001B[39m, \u001B[38;5;124m'\u001B[39m\u001B[38;5;124mcnter\u001B[39m\u001B[38;5;124m'\u001B[39m), {\u001B[38;5;124m'\u001B[39m\u001B[38;5;124miterate_names\u001B[39m\u001B[38;5;124m'\u001B[39m: \u001B[38;5;124m'\u001B[39m\u001B[38;5;124m(l, (f_maps_curr, level))\u001B[39m\u001B[38;5;124m'\u001B[39m})\n\u001B[1;32m     97\u001B[0m ag__\u001B[38;5;241m.\u001B[39mconverted_call(ag__\u001B[38;5;241m.\u001B[39mld(d_est_seq)\u001B[38;5;241m.\u001B[39mappend, (ag__\u001B[38;5;241m.\u001B[39mld(d_est_curr)[::(\u001B[38;5;241m-\u001B[39m \u001B[38;5;241m1\u001B[39m)],), \u001B[38;5;28;01mNone\u001B[39;00m, fscope)\n",
      "File \u001B[0;32m/var/folders/z_/cgwpz9z57_l8flrcm90f9p580000gn/T/__autograph_generated_filekg3nkuw8.py:93\u001B[0m, in \u001B[0;36mouter_factory.<locals>.inner_factory.<locals>.tf__call.<locals>.loop_body_1.<locals>.loop_body\u001B[0;34m(itr)\u001B[0m\n\u001B[1;32m     91\u001B[0m     \u001B[38;5;28;01mnonlocal\u001B[39;00m d_est_curr\n\u001B[1;32m     92\u001B[0m     ag__\u001B[38;5;241m.\u001B[39mconverted_call(ag__\u001B[38;5;241m.\u001B[39mld(d_est_curr)\u001B[38;5;241m.\u001B[39mappend, (ag__\u001B[38;5;241m.\u001B[39mconverted_call(ag__\u001B[38;5;241m.\u001B[39mld(level), (ag__\u001B[38;5;241m.\u001B[39mld(f_maps_curr), ag__\u001B[38;5;241m.\u001B[39mld(d_est), ag__\u001B[38;5;241m.\u001B[39mld(local_rot), ag__\u001B[38;5;241m.\u001B[39mld(local_trans), ag__\u001B[38;5;241m.\u001B[39mld(local_camera), ag__\u001B[38;5;241m.\u001B[39mld(new_traj)), \u001B[38;5;28mdict\u001B[39m(prev_f_maps\u001B[38;5;241m=\u001B[39mag__\u001B[38;5;241m.\u001B[39mld(f_maps_prev), prev_t_depth\u001B[38;5;241m=\u001B[39mag__\u001B[38;5;241m.\u001B[39mld(d_est_prev)), fscope),), \u001B[38;5;28;01mNone\u001B[39;00m, fscope)\n\u001B[0;32m---> 93\u001B[0m \u001B[43mag__\u001B[49m\u001B[38;5;241;43m.\u001B[39;49m\u001B[43mif_stmt\u001B[49m\u001B[43m(\u001B[49m\u001B[43m(\u001B[49m\u001B[43mag__\u001B[49m\u001B[38;5;241;43m.\u001B[39;49m\u001B[43mld\u001B[49m\u001B[43m(\u001B[49m\u001B[43md_est_curr\u001B[49m\u001B[43m)\u001B[49m\u001B[43m \u001B[49m\u001B[38;5;129;43;01mis\u001B[39;49;00m\u001B[43m \u001B[49m\u001B[38;5;28;43;01mNone\u001B[39;49;00m\u001B[43m)\u001B[49m\u001B[43m,\u001B[49m\u001B[43m \u001B[49m\u001B[43mif_body_2\u001B[49m\u001B[43m,\u001B[49m\u001B[43m \u001B[49m\u001B[43melse_body_2\u001B[49m\u001B[43m,\u001B[49m\u001B[43m \u001B[49m\u001B[43mget_state_2\u001B[49m\u001B[43m,\u001B[49m\u001B[43m \u001B[49m\u001B[43mset_state_2\u001B[49m\u001B[43m,\u001B[49m\u001B[43m \u001B[49m\u001B[43m(\u001B[49m\u001B[38;5;124;43m'\u001B[39;49m\u001B[38;5;124;43md_est_curr\u001B[39;49m\u001B[38;5;124;43m'\u001B[39;49m\u001B[43m,\u001B[49m\u001B[43m)\u001B[49m\u001B[43m,\u001B[49m\u001B[43m \u001B[49m\u001B[38;5;241;43m1\u001B[39;49m\u001B[43m)\u001B[49m\n\u001B[1;32m     94\u001B[0m cnter \u001B[38;5;241m=\u001B[39m ag__\u001B[38;5;241m.\u001B[39mld(cnter)\n\u001B[1;32m     95\u001B[0m cnter \u001B[38;5;241m-\u001B[39m\u001B[38;5;241m=\u001B[39m \u001B[38;5;241m1.0\u001B[39m\n",
      "File \u001B[0;32m/var/folders/z_/cgwpz9z57_l8flrcm90f9p580000gn/T/__autograph_generated_filekg3nkuw8.py:88\u001B[0m, in \u001B[0;36mouter_factory.<locals>.inner_factory.<locals>.tf__call.<locals>.loop_body_1.<locals>.loop_body.<locals>.if_body_2\u001B[0;34m()\u001B[0m\n\u001B[1;32m     86\u001B[0m \u001B[38;5;28;01mdef\u001B[39;00m \u001B[38;5;21mif_body_2\u001B[39m():\n\u001B[1;32m     87\u001B[0m     \u001B[38;5;28;01mnonlocal\u001B[39;00m d_est_curr\n\u001B[0;32m---> 88\u001B[0m     d_est_curr \u001B[38;5;241m=\u001B[39m [\u001B[43mag__\u001B[49m\u001B[38;5;241;43m.\u001B[39;49m\u001B[43mconverted_call\u001B[49m\u001B[43m(\u001B[49m\u001B[43mag__\u001B[49m\u001B[38;5;241;43m.\u001B[39;49m\u001B[43mld\u001B[49m\u001B[43m(\u001B[49m\u001B[43mlevel\u001B[49m\u001B[43m)\u001B[49m\u001B[43m,\u001B[49m\u001B[43m \u001B[49m\u001B[43m(\u001B[49m\u001B[43mag__\u001B[49m\u001B[38;5;241;43m.\u001B[39;49m\u001B[43mld\u001B[49m\u001B[43m(\u001B[49m\u001B[43mf_maps_curr\u001B[49m\u001B[43m)\u001B[49m\u001B[43m,\u001B[49m\u001B[43m \u001B[49m\u001B[38;5;28;43;01mNone\u001B[39;49;00m\u001B[43m,\u001B[49m\u001B[43m \u001B[49m\u001B[43mag__\u001B[49m\u001B[38;5;241;43m.\u001B[39;49m\u001B[43mld\u001B[49m\u001B[43m(\u001B[49m\u001B[43mlocal_rot\u001B[49m\u001B[43m)\u001B[49m\u001B[43m,\u001B[49m\u001B[43m \u001B[49m\u001B[43mag__\u001B[49m\u001B[38;5;241;43m.\u001B[39;49m\u001B[43mld\u001B[49m\u001B[43m(\u001B[49m\u001B[43mlocal_trans\u001B[49m\u001B[43m)\u001B[49m\u001B[43m,\u001B[49m\u001B[43m \u001B[49m\u001B[43mag__\u001B[49m\u001B[38;5;241;43m.\u001B[39;49m\u001B[43mld\u001B[49m\u001B[43m(\u001B[49m\u001B[43mlocal_camera\u001B[49m\u001B[43m)\u001B[49m\u001B[43m,\u001B[49m\u001B[43m \u001B[49m\u001B[43mag__\u001B[49m\u001B[38;5;241;43m.\u001B[39;49m\u001B[43mld\u001B[49m\u001B[43m(\u001B[49m\u001B[43mnew_traj\u001B[49m\u001B[43m)\u001B[49m\u001B[43m)\u001B[49m\u001B[43m,\u001B[49m\u001B[43m \u001B[49m\u001B[38;5;28;43mdict\u001B[39;49m\u001B[43m(\u001B[49m\u001B[43mprev_f_maps\u001B[49m\u001B[38;5;241;43m=\u001B[39;49m\u001B[43mag__\u001B[49m\u001B[38;5;241;43m.\u001B[39;49m\u001B[43mld\u001B[49m\u001B[43m(\u001B[49m\u001B[43mf_maps_prev\u001B[49m\u001B[43m)\u001B[49m\u001B[43m,\u001B[49m\u001B[43m \u001B[49m\u001B[43mprev_t_depth\u001B[49m\u001B[38;5;241;43m=\u001B[39;49m\u001B[43mag__\u001B[49m\u001B[38;5;241;43m.\u001B[39;49m\u001B[43mld\u001B[49m\u001B[43m(\u001B[49m\u001B[43md_est_prev\u001B[49m\u001B[43m)\u001B[49m\u001B[43m)\u001B[49m\u001B[43m,\u001B[49m\u001B[43m \u001B[49m\u001B[43mfscope\u001B[49m\u001B[43m)\u001B[49m]\n",
      "File \u001B[0;32m/var/folders/z_/cgwpz9z57_l8flrcm90f9p580000gn/T/__autograph_generated_file7ua2xfn1.py:226\u001B[0m, in \u001B[0;36mouter_factory.<locals>.inner_factory.<locals>.tf__call\u001B[0;34m(self, curr_f_maps, prev_l_est, rot, trans, camera, new_traj, prev_f_maps, prev_t_depth)\u001B[0m\n\u001B[1;32m    224\u001B[0m     curr_l_est \u001B[38;5;241m=\u001B[39m ag__\u001B[38;5;241m.\u001B[39mUndefined(\u001B[38;5;124m'\u001B[39m\u001B[38;5;124mcurr_l_est\u001B[39m\u001B[38;5;124m'\u001B[39m)\n\u001B[1;32m    225\u001B[0m     cv \u001B[38;5;241m=\u001B[39m ag__\u001B[38;5;241m.\u001B[39mUndefined(\u001B[38;5;124m'\u001B[39m\u001B[38;5;124mcv\u001B[39m\u001B[38;5;124m'\u001B[39m)\n\u001B[0;32m--> 226\u001B[0m     ag__\u001B[38;5;241m.\u001B[39mif_stmt(ag__\u001B[38;5;241m.\u001B[39mor_((\u001B[38;5;28;01mlambda\u001B[39;00m : (ag__\u001B[38;5;241m.\u001B[39mld(prev_t_depth) \u001B[38;5;129;01mis\u001B[39;00m \u001B[38;5;28;01mNone\u001B[39;00m)), (\u001B[38;5;28;01mlambda\u001B[39;00m : ag__\u001B[38;5;241m.\u001B[39mld(new_traj)[\u001B[38;5;241m0\u001B[39m])), if_body_10, else_body_10, get_state_10, set_state_10, (\u001B[38;5;124m'\u001B[39m\u001B[38;5;124mdo_return\u001B[39m\u001B[38;5;124m'\u001B[39m, \u001B[38;5;124m'\u001B[39m\u001B[38;5;124mretval_\u001B[39m\u001B[38;5;124m'\u001B[39m, \u001B[38;5;124m'\u001B[39m\u001B[38;5;124mprev_t_depth\u001B[39m\u001B[38;5;124m'\u001B[39m), \u001B[38;5;241m2\u001B[39m)\n\u001B[1;32m    227\u001B[0m \u001B[38;5;28;01mreturn\u001B[39;00m fscope\u001B[38;5;241m.\u001B[39mret(retval_, do_return)\n",
      "File \u001B[0;32m/var/folders/z_/cgwpz9z57_l8flrcm90f9p580000gn/T/__autograph_generated_file7ua2xfn1.py:172\u001B[0m, in \u001B[0;36mouter_factory.<locals>.inner_factory.<locals>.tf__call.<locals>.else_body_10\u001B[0;34m()\u001B[0m\n\u001B[1;32m    170\u001B[0m     ag__\u001B[38;5;241m.\u001B[39mld(\u001B[38;5;28mprint\u001B[39m)(\u001B[38;5;124m'\u001B[39m\u001B[38;5;124mSkipping sncv\u001B[39m\u001B[38;5;124m'\u001B[39m)\n\u001B[1;32m    171\u001B[0m autocorr \u001B[38;5;241m=\u001B[39m ag__\u001B[38;5;241m.\u001B[39mUndefined(\u001B[38;5;124m'\u001B[39m\u001B[38;5;124mautocorr\u001B[39m\u001B[38;5;124m'\u001B[39m)\n\u001B[0;32m--> 172\u001B[0m ag__\u001B[38;5;241m.\u001B[39mif_stmt(ag__\u001B[38;5;241m.\u001B[39mld(\u001B[38;5;28mself\u001B[39m)\u001B[38;5;241m.\u001B[39mablation\u001B[38;5;241m.\u001B[39mSNCV, if_body_7, else_body_7, get_state_7, set_state_7, (), \u001B[38;5;241m0\u001B[39m)\n\u001B[1;32m    174\u001B[0m \u001B[38;5;28;01mdef\u001B[39;00m \u001B[38;5;21mget_state_8\u001B[39m():\n\u001B[1;32m    175\u001B[0m     \u001B[38;5;28;01mreturn\u001B[39;00m ()\n",
      "File \u001B[0;32m/var/folders/z_/cgwpz9z57_l8flrcm90f9p580000gn/T/__autograph_generated_file7ua2xfn1.py:166\u001B[0m, in \u001B[0;36mouter_factory.<locals>.inner_factory.<locals>.tf__call.<locals>.else_body_10.<locals>.if_body_7\u001B[0;34m()\u001B[0m\n\u001B[1;32m    165\u001B[0m \u001B[38;5;28;01mdef\u001B[39;00m \u001B[38;5;21mif_body_7\u001B[39m():\n\u001B[0;32m--> 166\u001B[0m     autocorr \u001B[38;5;241m=\u001B[39m \u001B[43mag__\u001B[49m\u001B[38;5;241;43m.\u001B[39;49m\u001B[43mconverted_call\u001B[49m\u001B[43m(\u001B[49m\u001B[43mag__\u001B[49m\u001B[38;5;241;43m.\u001B[39;49m\u001B[43mld\u001B[49m\u001B[43m(\u001B[49m\u001B[43mcost_volume\u001B[49m\u001B[43m)\u001B[49m\u001B[43m,\u001B[49m\u001B[43m \u001B[49m\u001B[43m(\u001B[49m\u001B[43mag__\u001B[49m\u001B[38;5;241;43m.\u001B[39;49m\u001B[43mld\u001B[49m\u001B[43m(\u001B[49m\u001B[43mcurr_f_maps\u001B[49m\u001B[43m)\u001B[49m\u001B[43m,\u001B[49m\u001B[43m \u001B[49m\u001B[43mag__\u001B[49m\u001B[38;5;241;43m.\u001B[39;49m\u001B[43mld\u001B[49m\u001B[43m(\u001B[49m\u001B[43mcurr_f_maps\u001B[49m\u001B[43m)\u001B[49m\u001B[43m,\u001B[49m\u001B[43m \u001B[49m\u001B[38;5;241;43m3\u001B[39;49m\u001B[43m)\u001B[49m\u001B[43m,\u001B[49m\u001B[43m \u001B[49m\u001B[38;5;28;43mdict\u001B[39;49m\u001B[43m(\u001B[49m\u001B[43mnbre_cuts\u001B[49m\u001B[38;5;241;43m=\u001B[39;49m\u001B[43mag__\u001B[49m\u001B[38;5;241;43m.\u001B[39;49m\u001B[43mld\u001B[49m\u001B[43m(\u001B[49m\u001B[43mnbre_cuts\u001B[49m\u001B[43m)\u001B[49m\u001B[43m)\u001B[49m\u001B[43m,\u001B[49m\u001B[43m \u001B[49m\u001B[43mfscope\u001B[49m\u001B[43m)\u001B[49m\n\u001B[1;32m    167\u001B[0m     ag__\u001B[38;5;241m.\u001B[39mconverted_call(ag__\u001B[38;5;241m.\u001B[39mld(input_features)\u001B[38;5;241m.\u001B[39mappend, (ag__\u001B[38;5;241m.\u001B[39mld(autocorr),), \u001B[38;5;28;01mNone\u001B[39;00m, fscope)\n",
      "File \u001B[0;32m/var/folders/z_/cgwpz9z57_l8flrcm90f9p580000gn/T/__autograph_generated_filenh3ub0q3.py:15\u001B[0m, in \u001B[0;36mouter_factory.<locals>.inner_factory.<locals>.tf__get_disparity_sweeping_cv\u001B[0;34m(c1, c2, disp_prev_t, disp, rot, trans, camera, search_range, nbre_cuts)\u001B[0m\n\u001B[1;32m     13\u001B[0m expl_range \u001B[38;5;241m=\u001B[39m ag__\u001B[38;5;241m.\u001B[39mconverted_call(ag__\u001B[38;5;241m.\u001B[39mld(tf)\u001B[38;5;241m.\u001B[39mreshape, (ag__\u001B[38;5;241m.\u001B[39mconverted_call(ag__\u001B[38;5;241m.\u001B[39mld(tf)\u001B[38;5;241m.\u001B[39mrange, ((\u001B[38;5;241m-\u001B[39m ag__\u001B[38;5;241m.\u001B[39mld(search_range)), (ag__\u001B[38;5;241m.\u001B[39mld(search_range) \u001B[38;5;241m+\u001B[39m \u001B[38;5;241m1\u001B[39m), \u001B[38;5;241m1.0\u001B[39m), \u001B[38;5;28mdict\u001B[39m(dtype\u001B[38;5;241m=\u001B[39mag__\u001B[38;5;241m.\u001B[39mld(tf)\u001B[38;5;241m.\u001B[39mfloat32), fscope), [(\u001B[38;5;241m-\u001B[39m \u001B[38;5;241m1\u001B[39m), \u001B[38;5;241m1\u001B[39m, \u001B[38;5;241m1\u001B[39m, \u001B[38;5;241m1\u001B[39m, \u001B[38;5;241m1\u001B[39m]), \u001B[38;5;28;01mNone\u001B[39;00m, fscope)\n\u001B[1;32m     14\u001B[0m (b, h, w) \u001B[38;5;241m=\u001B[39m ag__\u001B[38;5;241m.\u001B[39mconverted_call(ag__\u001B[38;5;241m.\u001B[39mconverted_call(ag__\u001B[38;5;241m.\u001B[39mld(c1)\u001B[38;5;241m.\u001B[39mget_shape, (), \u001B[38;5;28;01mNone\u001B[39;00m, fscope)\u001B[38;5;241m.\u001B[39mas_list, (), \u001B[38;5;28;01mNone\u001B[39;00m, fscope)[\u001B[38;5;241m0\u001B[39m:\u001B[38;5;241m3\u001B[39m]\n\u001B[0;32m---> 15\u001B[0m disp \u001B[38;5;241m=\u001B[39m ag__\u001B[38;5;241m.\u001B[39mconverted_call(ag__\u001B[38;5;241m.\u001B[39mld(tile_in_batch), (ag__\u001B[38;5;241m.\u001B[39mld(disp), ag__\u001B[38;5;241m.\u001B[39mld(nbre_copies)), \u001B[38;5;28;01mNone\u001B[39;00m, fscope)\n\u001B[1;32m     16\u001B[0m disp \u001B[38;5;241m=\u001B[39m ag__\u001B[38;5;241m.\u001B[39mconverted_call(ag__\u001B[38;5;241m.\u001B[39mld(tf)\u001B[38;5;241m.\u001B[39mreshape, (ag__\u001B[38;5;241m.\u001B[39mld(disp), [ag__\u001B[38;5;241m.\u001B[39mld(nbre_copies), (\u001B[38;5;241m-\u001B[39m \u001B[38;5;241m1\u001B[39m), ag__\u001B[38;5;241m.\u001B[39mld(w), ag__\u001B[38;5;241m.\u001B[39mld(h), \u001B[38;5;241m1\u001B[39m]), \u001B[38;5;28;01mNone\u001B[39;00m, fscope)\n\u001B[1;32m     17\u001B[0m disp \u001B[38;5;241m=\u001B[39m ag__\u001B[38;5;241m.\u001B[39mconverted_call(ag__\u001B[38;5;241m.\u001B[39mld(tf)\u001B[38;5;241m.\u001B[39mreshape, ((ag__\u001B[38;5;241m.\u001B[39mld(disp) \u001B[38;5;241m+\u001B[39m ag__\u001B[38;5;241m.\u001B[39mld(expl_range)), [(\u001B[38;5;241m-\u001B[39m \u001B[38;5;241m1\u001B[39m), ag__\u001B[38;5;241m.\u001B[39mld(h), ag__\u001B[38;5;241m.\u001B[39mld(w), \u001B[38;5;241m1\u001B[39m]), \u001B[38;5;28;01mNone\u001B[39;00m, fscope)\n",
      "File \u001B[0;32m/var/folders/z_/cgwpz9z57_l8flrcm90f9p580000gn/T/__autograph_generated_file80tyrwcs.py:10\u001B[0m, in \u001B[0;36mouter_factory.<locals>.inner_factory.<locals>.tf__tile_in_batch\u001B[0;34m(map, nbre_copies)\u001B[0m\n\u001B[1;32m      8\u001B[0m do_return \u001B[38;5;241m=\u001B[39m \u001B[38;5;28;01mFalse\u001B[39;00m\n\u001B[1;32m      9\u001B[0m retval_ \u001B[38;5;241m=\u001B[39m ag__\u001B[38;5;241m.\u001B[39mUndefinedReturnValue()\n\u001B[0;32m---> 10\u001B[0m map_shape \u001B[38;5;241m=\u001B[39m ag__\u001B[38;5;241m.\u001B[39mconverted_call(ag__\u001B[38;5;241m.\u001B[39mconverted_call(ag__\u001B[38;5;241m.\u001B[39mld(\u001B[38;5;28mmap\u001B[39m)\u001B[38;5;241m.\u001B[39mget_shape, (), \u001B[38;5;28;01mNone\u001B[39;00m, fscope)\u001B[38;5;241m.\u001B[39mas_list, (), \u001B[38;5;28;01mNone\u001B[39;00m, fscope)\n\u001B[1;32m     11\u001B[0m \u001B[38;5;28mmap\u001B[39m \u001B[38;5;241m=\u001B[39m ag__\u001B[38;5;241m.\u001B[39mconverted_call(ag__\u001B[38;5;241m.\u001B[39mld(tf)\u001B[38;5;241m.\u001B[39mexpand_dims, (ag__\u001B[38;5;241m.\u001B[39mld(\u001B[38;5;28mmap\u001B[39m),), \u001B[38;5;28mdict\u001B[39m(axis\u001B[38;5;241m=\u001B[39m\u001B[38;5;241m0\u001B[39m), fscope)\n\u001B[1;32m     12\u001B[0m \u001B[38;5;28mmap\u001B[39m \u001B[38;5;241m=\u001B[39m ag__\u001B[38;5;241m.\u001B[39mconverted_call(ag__\u001B[38;5;241m.\u001B[39mld(tf)\u001B[38;5;241m.\u001B[39mtile, (ag__\u001B[38;5;241m.\u001B[39mld(\u001B[38;5;28mmap\u001B[39m), ([ag__\u001B[38;5;241m.\u001B[39mld(nbre_copies)] \u001B[38;5;241m+\u001B[39m [\u001B[38;5;241m1\u001B[39m \u001B[38;5;28;01mfor\u001B[39;00m i \u001B[38;5;129;01min\u001B[39;00m ag__\u001B[38;5;241m.\u001B[39mld(map_shape)])), \u001B[38;5;28;01mNone\u001B[39;00m, fscope)\n",
      "\u001B[0;31mAttributeError\u001B[0m: in user code:\n\n    File \"/Users/pascalleroy/Documents/m4depth/M4Depth/env/lib/python3.8/site-packages/keras/engine/training.py\", line 1557, in test_function  *\n        return step_function(self, iterator)\n    File \"/Users/pascalleroy/Documents/m4depth/M4Depth/m4depth_network.py\", line 457, in test_step  *\n        preds = self([[data], data[\"camera\"]], training=False)\n    File \"/Users/pascalleroy/Documents/m4depth/M4Depth/env/lib/python3.8/site-packages/keras/utils/traceback_utils.py\", line 67, in error_handler  **\n        raise e.with_traceback(filtered_tb) from None\n    File \"/var/folders/z_/cgwpz9z57_l8flrcm90f9p580000gn/T/__autograph_generated_fileyprrsl8z.py\", line 27, in tf__call\n        d_maps_pyrs = ag__.converted_call(ag__.ld(self).d_estimator, (ag__.ld(f_maps_pyrs), ag__.ld(traj_samples), ag__.ld(camera), ag__.ld(training)), None, fscope)\n    File \"/var/folders/z_/cgwpz9z57_l8flrcm90f9p580000gn/T/__autograph_generated_filekg3nkuw8.py\", line 115, in tf__call\n        ag__.for_stmt(ag__.converted_call(ag__.ld(enumerate), (ag__.converted_call(ag__.ld(zip), (ag__.ld(f_maps_pyrs), ag__.ld(traj_samples)), None, fscope),), None, fscope), None, loop_body_1, get_state_4, set_state_4, (), {'iterate_names': '(seq_i, (f_pyr_curr, sample))'})\n    File \"/var/folders/z_/cgwpz9z57_l8flrcm90f9p580000gn/T/__autograph_generated_filekg3nkuw8.py\", line 96, in loop_body_1\n        ag__.for_stmt(ag__.converted_call(ag__.ld(enumerate), (ag__.converted_call(ag__.ld(zip), (ag__.ld(f_pyr_curr)[::(- 1)], ag__.ld(self).levels[::(- 1)]), None, fscope),), None, fscope), None, loop_body, get_state_3, set_state_3, ('d_est_curr', 'cnter'), {'iterate_names': '(l, (f_maps_curr, level))'})\n    File \"/var/folders/z_/cgwpz9z57_l8flrcm90f9p580000gn/T/__autograph_generated_filekg3nkuw8.py\", line 93, in loop_body\n        ag__.if_stmt((ag__.ld(d_est_curr) is None), if_body_2, else_body_2, get_state_2, set_state_2, ('d_est_curr',), 1)\n    File \"/var/folders/z_/cgwpz9z57_l8flrcm90f9p580000gn/T/__autograph_generated_filekg3nkuw8.py\", line 88, in if_body_2\n        d_est_curr = [ag__.converted_call(ag__.ld(level), (ag__.ld(f_maps_curr), None, ag__.ld(local_rot), ag__.ld(local_trans), ag__.ld(local_camera), ag__.ld(new_traj)), dict(prev_f_maps=ag__.ld(f_maps_prev), prev_t_depth=ag__.ld(d_est_prev)), fscope)]\n    File \"/var/folders/z_/cgwpz9z57_l8flrcm90f9p580000gn/T/__autograph_generated_file7ua2xfn1.py\", line 226, in tf__call\n        ag__.if_stmt(ag__.or_((lambda : (ag__.ld(prev_t_depth) is None)), (lambda : ag__.ld(new_traj)[0])), if_body_10, else_body_10, get_state_10, set_state_10, ('do_return', 'retval_', 'prev_t_depth'), 2)\n    File \"/var/folders/z_/cgwpz9z57_l8flrcm90f9p580000gn/T/__autograph_generated_file7ua2xfn1.py\", line 172, in else_body_10\n        ag__.if_stmt(ag__.ld(self).ablation.SNCV, if_body_7, else_body_7, get_state_7, set_state_7, (), 0)\n    File \"/var/folders/z_/cgwpz9z57_l8flrcm90f9p580000gn/T/__autograph_generated_file7ua2xfn1.py\", line 166, in if_body_7\n        autocorr = ag__.converted_call(ag__.ld(cost_volume), (ag__.ld(curr_f_maps), ag__.ld(curr_f_maps), 3), dict(nbre_cuts=ag__.ld(nbre_cuts)), fscope)\n    File \"/var/folders/z_/cgwpz9z57_l8flrcm90f9p580000gn/T/__autograph_generated_filenh3ub0q3.py\", line 15, in tf__get_disparity_sweeping_cv\n        disp = ag__.converted_call(ag__.ld(tile_in_batch), (ag__.ld(disp), ag__.ld(nbre_copies)), None, fscope)\n    File \"/var/folders/z_/cgwpz9z57_l8flrcm90f9p580000gn/T/__autograph_generated_file80tyrwcs.py\", line 10, in tf__tile_in_batch\n        map_shape = ag__.converted_call(ag__.converted_call(ag__.ld(map).get_shape, (), None, fscope).as_list, (), None, fscope)\n\n    AttributeError: Exception encountered when calling layer \"m4_depth_10\" (type M4Depth).\n    \n    in user code:\n    \n        File \"/Users/pascalleroy/Documents/m4depth/M4Depth/m4depth_network.py\", line 362, in call  *\n            d_maps_pyrs = self.d_estimator(f_maps_pyrs, traj_samples, camera, training)\n        File \"/Users/pascalleroy/Documents/m4depth/M4Depth/env/lib/python3.8/site-packages/keras/utils/traceback_utils.py\", line 67, in error_handler  **\n            raise e.with_traceback(filtered_tb) from None\n        File \"/var/folders/z_/cgwpz9z57_l8flrcm90f9p580000gn/T/__autograph_generated_filekg3nkuw8.py\", line 115, in tf__call\n            ag__.for_stmt(ag__.converted_call(ag__.ld(enumerate), (ag__.converted_call(ag__.ld(zip), (ag__.ld(f_maps_pyrs), ag__.ld(traj_samples)), None, fscope),), None, fscope), None, loop_body_1, get_state_4, set_state_4, (), {'iterate_names': '(seq_i, (f_pyr_curr, sample))'})\n        File \"/var/folders/z_/cgwpz9z57_l8flrcm90f9p580000gn/T/__autograph_generated_filekg3nkuw8.py\", line 96, in loop_body_1\n            ag__.for_stmt(ag__.converted_call(ag__.ld(enumerate), (ag__.converted_call(ag__.ld(zip), (ag__.ld(f_pyr_curr)[::(- 1)], ag__.ld(self).levels[::(- 1)]), None, fscope),), None, fscope), None, loop_body, get_state_3, set_state_3, ('d_est_curr', 'cnter'), {'iterate_names': '(l, (f_maps_curr, level))'})\n        File \"/var/folders/z_/cgwpz9z57_l8flrcm90f9p580000gn/T/__autograph_generated_filekg3nkuw8.py\", line 93, in loop_body\n            ag__.if_stmt((ag__.ld(d_est_curr) is None), if_body_2, else_body_2, get_state_2, set_state_2, ('d_est_curr',), 1)\n        File \"/var/folders/z_/cgwpz9z57_l8flrcm90f9p580000gn/T/__autograph_generated_filekg3nkuw8.py\", line 88, in if_body_2\n            d_est_curr = [ag__.converted_call(ag__.ld(level), (ag__.ld(f_maps_curr), None, ag__.ld(local_rot), ag__.ld(local_trans), ag__.ld(local_camera), ag__.ld(new_traj)), dict(prev_f_maps=ag__.ld(f_maps_prev), prev_t_depth=ag__.ld(d_est_prev)), fscope)]\n        File \"/var/folders/z_/cgwpz9z57_l8flrcm90f9p580000gn/T/__autograph_generated_file7ua2xfn1.py\", line 226, in tf__call\n            ag__.if_stmt(ag__.or_((lambda : (ag__.ld(prev_t_depth) is None)), (lambda : ag__.ld(new_traj)[0])), if_body_10, else_body_10, get_state_10, set_state_10, ('do_return', 'retval_', 'prev_t_depth'), 2)\n        File \"/var/folders/z_/cgwpz9z57_l8flrcm90f9p580000gn/T/__autograph_generated_file7ua2xfn1.py\", line 172, in else_body_10\n            ag__.if_stmt(ag__.ld(self).ablation.SNCV, if_body_7, else_body_7, get_state_7, set_state_7, (), 0)\n        File \"/var/folders/z_/cgwpz9z57_l8flrcm90f9p580000gn/T/__autograph_generated_file7ua2xfn1.py\", line 166, in if_body_7\n            autocorr = ag__.converted_call(ag__.ld(cost_volume), (ag__.ld(curr_f_maps), ag__.ld(curr_f_maps), 3), dict(nbre_cuts=ag__.ld(nbre_cuts)), fscope)\n        File \"/var/folders/z_/cgwpz9z57_l8flrcm90f9p580000gn/T/__autograph_generated_filenh3ub0q3.py\", line 15, in tf__get_disparity_sweeping_cv\n            disp = ag__.converted_call(ag__.ld(tile_in_batch), (ag__.ld(disp), ag__.ld(nbre_copies)), None, fscope)\n        File \"/var/folders/z_/cgwpz9z57_l8flrcm90f9p580000gn/T/__autograph_generated_file80tyrwcs.py\", line 10, in tf__tile_in_batch\n            map_shape = ag__.converted_call(ag__.converted_call(ag__.ld(map).get_shape, (), None, fscope).as_list, (), None, fscope)\n    \n        AttributeError: Exception encountered when calling layer \"depth_estimator_pyramid_10\" (type DepthEstimatorPyramid).\n        \n        in user code:\n        \n            File \"/Users/pascalleroy/Documents/m4depth/M4Depth/m4depth_network.py\", line 314, in call  *\n                d_est_curr = [level(f_maps_curr, None, local_rot, local_trans, local_camera, new_traj,\n            File \"/Users/pascalleroy/Documents/m4depth/M4Depth/env/lib/python3.8/site-packages/keras/utils/traceback_utils.py\", line 67, in error_handler  **\n                raise e.with_traceback(filtered_tb) from None\n            File \"/var/folders/z_/cgwpz9z57_l8flrcm90f9p580000gn/T/__autograph_generated_file7ua2xfn1.py\", line 226, in tf__call\n                ag__.if_stmt(ag__.or_((lambda : (ag__.ld(prev_t_depth) is None)), (lambda : ag__.ld(new_traj)[0])), if_body_10, else_body_10, get_state_10, set_state_10, ('do_return', 'retval_', 'prev_t_depth'), 2)\n            File \"/var/folders/z_/cgwpz9z57_l8flrcm90f9p580000gn/T/__autograph_generated_file7ua2xfn1.py\", line 172, in else_body_10\n                ag__.if_stmt(ag__.ld(self).ablation.SNCV, if_body_7, else_body_7, get_state_7, set_state_7, (), 0)\n            File \"/var/folders/z_/cgwpz9z57_l8flrcm90f9p580000gn/T/__autograph_generated_file7ua2xfn1.py\", line 166, in if_body_7\n                autocorr = ag__.converted_call(ag__.ld(cost_volume), (ag__.ld(curr_f_maps), ag__.ld(curr_f_maps), 3), dict(nbre_cuts=ag__.ld(nbre_cuts)), fscope)\n            File \"/var/folders/z_/cgwpz9z57_l8flrcm90f9p580000gn/T/__autograph_generated_filenh3ub0q3.py\", line 15, in tf__get_disparity_sweeping_cv\n                disp = ag__.converted_call(ag__.ld(tile_in_batch), (ag__.ld(disp), ag__.ld(nbre_copies)), None, fscope)\n            File \"/var/folders/z_/cgwpz9z57_l8flrcm90f9p580000gn/T/__autograph_generated_file80tyrwcs.py\", line 10, in tf__tile_in_batch\n                map_shape = ag__.converted_call(ag__.converted_call(ag__.ld(map).get_shape, (), None, fscope).as_list, (), None, fscope)\n        \n            AttributeError: Exception encountered when calling layer \"depth_estimator_level_65\" (type DepthEstimatorLevel).\n            \n            in user code:\n            \n                File \"/Users/pascalleroy/Documents/m4depth/M4Depth/m4depth_network.py\", line 232, in call  *\n                    autocorr = cost_volume(curr_f_maps, curr_f_maps, 3, nbre_cuts=nbre_cuts)\n                File \"/Users/pascalleroy/Documents/m4depth/M4Depth/utils/depth_operations_functionnal.py\", line 318, in get_disparity_sweeping_cv  *\n                    disp = tile_in_batch(disp, nbre_copies)\n                File \"/Users/pascalleroy/Documents/m4depth/M4Depth/utils/depth_operations_functionnal.py\", line 298, in tile_in_batch  *\n                    map_shape = map.get_shape().as_list()\n            \n                AttributeError: 'str' object has no attribute 'get_shape'\n            \n            \n            Call arguments received by layer \"depth_estimator_level_65\" (type DepthEstimatorLevel):\n              • curr_f_maps=tf.Tensor(shape=(1, 6, 6, 192), dtype=float32)\n              • prev_l_est=None\n              • rot=tf.Tensor(shape=(1, 4), dtype=float32)\n              • trans=tf.Tensor(shape=(1, 3), dtype=float32)\n              • camera={'f': 'tf.Tensor(shape=(1, 2), dtype=float32)', 'c': 'tf.Tensor(shape=(1, 2), dtype=float32)'}\n              • new_traj=tf.Tensor(shape=(1,), dtype=bool)\n              • prev_f_maps=None\n              • prev_t_depth=None\n        \n        \n        Call arguments received by layer \"depth_estimator_pyramid_10\" (type DepthEstimatorPyramid):\n          • f_maps_pyrs=[['tf.Tensor(shape=(1, 192, 192, 16), dtype=float32)', 'tf.Tensor(shape=(1, 96, 96, 32), dtype=float32)', 'tf.Tensor(shape=(1, 48, 48, 64), dtype=float32)', 'tf.Tensor(shape=(1, 24, 24, 96), dtype=float32)', 'tf.Tensor(shape=(1, 12, 12, 128), dtype=float32)', 'tf.Tensor(shape=(1, 6, 6, 192), dtype=float32)']]\n          • traj_samples=[{'camera': {'f': 'tf.Tensor(shape=(1, 2), dtype=float32)', 'c': 'tf.Tensor(shape=(1, 2), dtype=float32)'}, 'RGB_im': 'tf.Tensor(shape=(1, 384, 384, 3), dtype=float32)', 'rot': 'tf.Tensor(shape=(1, 4), dtype=float32)', 'trans': 'tf.Tensor(shape=(1, 3), dtype=float32)', 'new_traj': 'tf.Tensor(shape=(1,), dtype=bool)', 'depth': 'tf.Tensor(shape=(1, 384, 384, 1), dtype=float32)'}]\n          • camera={'f': 'tf.Tensor(shape=(1, 2), dtype=float32)', 'c': 'tf.Tensor(shape=(1, 2), dtype=float32)'}\n          • training=False\n    \n    \n    Call arguments received by layer \"m4_depth_10\" (type M4Depth):\n      • data=[[{'camera': {'f': 'tf.Tensor(shape=(1, 2), dtype=float32)', 'c': 'tf.Tensor(shape=(1, 2), dtype=float32)'}, 'RGB_im': 'tf.Tensor(shape=(1, 384, 384, 3), dtype=float32)', 'rot': 'tf.Tensor(shape=(1, 4), dtype=float32)', 'trans': 'tf.Tensor(shape=(1, 3), dtype=float32)', 'new_traj': 'tf.Tensor(shape=(1,), dtype=bool)', 'depth': 'tf.Tensor(shape=(1, 384, 384, 1), dtype=float32)'}], {'f': 'tf.Tensor(shape=(1, 2), dtype=float32)', 'c': 'tf.Tensor(shape=(1, 2), dtype=float32)'}]\n      • training=False\n"
     ]
    }
   ],
   "source": [
    "from importlib import reload\n",
    "import os\n",
    "from utils.depth_operations_functionnal import *\n",
    "\n",
    "os.environ['TF_CPP_MIN_LOG_LEVEL'] = '3'\n",
    "import tensorflow as tf\n",
    "from tensorflow import keras as ks\n",
    "from keras.utils import vis_utils\n",
    "from metrics import AbsRelError, SqRelError, RootMeanSquaredError, \\\n",
    "    RootMeanSquaredLogError, ThresholdRelError\n",
    "\n",
    "from callbacks import CustomCheckpointCallback\n",
    "\n",
    "print(tf.__version__)\n",
    "from m4depth_network import M4Depth, M4depthAblationParameters\n",
    "\n",
    "ablation_settings = M4depthAblationParameters()\n",
    "\n",
    "print(tf.config.list_physical_devices('GPU'))\n",
    "model = M4Depth(nbre_levels=6, ablation_settings=ablation_settings)\n",
    "\n",
    "weights_dir = os.path.join(\"pretrained_weights/midair/\", \"best\")\n",
    "model_checkpoint_cbk = CustomCheckpointCallback(weights_dir,\n",
    "                                                resume_training=True)\n",
    "model.compile(metrics=[AbsRelError(),\n",
    "                       SqRelError(),\n",
    "                       RootMeanSquaredError(),\n",
    "                       RootMeanSquaredLogError(),\n",
    "                       ThresholdRelError(1), ThresholdRelError(2),\n",
    "                       ThresholdRelError(3)])\n",
    "\n",
    "metrics = model.evaluate(data, callbacks=[model_checkpoint_cbk])\n",
    "print(metrics)"
   ],
   "metadata": {
    "collapsed": false,
    "pycharm": {
     "name": "#%%\n"
    }
   }
  },
  {
   "cell_type": "code",
   "execution_count": 8,
   "outputs": [
    {
     "name": "stdout",
     "output_type": "stream",
     "text": [
      "18\n",
      "19\n",
      "20\n",
      "Restoring weights from pretrained_weights/midair/best/cp-0071.ckpt\n",
      "1/1 [==============================] - 0s 220ms/step\n",
      "0\n",
      "1/1 - 0s - 194ms/epoch - 194ms/step\n",
      "1\n",
      "1/1 - 0s - 197ms/epoch - 197ms/step\n",
      "2\n",
      "1/1 - 0s - 159ms/epoch - 159ms/step\n",
      "3\n",
      "1/1 - 0s - 192ms/epoch - 192ms/step\n",
      "4\n",
      "1/1 - 0s - 149ms/epoch - 149ms/step\n",
      "5\n",
      "1/1 - 0s - 213ms/epoch - 213ms/step\n",
      "6\n",
      "1/1 - 0s - 198ms/epoch - 198ms/step\n",
      "7\n",
      "1/1 - 0s - 183ms/epoch - 183ms/step\n",
      "8\n",
      "1/1 - 0s - 179ms/epoch - 179ms/step\n",
      "9\n",
      "1/1 - 0s - 190ms/epoch - 190ms/step\n",
      "10\n",
      "1/1 - 0s - 162ms/epoch - 162ms/step\n",
      "11\n",
      "1/1 - 0s - 247ms/epoch - 247ms/step\n",
      "12\n",
      "1/1 - 0s - 206ms/epoch - 206ms/step\n",
      "13\n",
      "1/1 - 0s - 235ms/epoch - 235ms/step\n",
      "14\n",
      "1/1 - 0s - 242ms/epoch - 242ms/step\n",
      "15\n",
      "1/1 - 0s - 197ms/epoch - 197ms/step\n",
      "16\n",
      "1/1 - 0s - 204ms/epoch - 204ms/step\n",
      "17\n",
      "1/1 - 0s - 212ms/epoch - 212ms/step\n",
      "18\n",
      "1/1 - 0s - 198ms/epoch - 198ms/step\n",
      "19\n",
      "1/1 - 0s - 211ms/epoch - 211ms/step\n",
      "20\n",
      "1/1 - 0s - 185ms/epoch - 185ms/step\n"
     ]
    }
   ],
   "source": [
    "first_sample = data.take(1)\n",
    "model.predict(first_sample, callbacks=[model_checkpoint_cbk])\n",
    "\n",
    "is_first_run = True\n",
    "\n",
    "# Do what you want with the outputs\n",
    "for i, sample in enumerate(data):\n",
    "    if not is_first_run and sample[\"new_traj\"]:\n",
    "        print(\"End of trajectory\")\n",
    "    print(i)\n",
    "    is_first_run = False\n",
    "    est = model.predict(first_sample,\n",
    "                        verbose=2)  # Run network to get estimates\n",
    "    d_est = est[\"depth\"][0, :, :,\n",
    "            :]  # Estimate : [h,w,1] matrix with depth in meter\n",
    "    d_gt = sample['depth'][0, :, :,\n",
    "           :]  # Ground truth : [h,w,1] matrix with depth in meter\n",
    "    i_rgb = sample['RGB_im'][0, :, :,\n",
    "            :]  # RGB image : [h,w,3] matrix with rgb channels ranging between 0 and 1\n"
   ],
   "metadata": {
    "collapsed": false,
    "pycharm": {
     "name": "#%%\n"
    }
   }
  },
  {
   "cell_type": "code",
   "execution_count": 64,
   "outputs": [
    {
     "ename": "AttributeError",
     "evalue": "'FeaturePyramid' object has no attribute 'layers'",
     "output_type": "error",
     "traceback": [
      "\u001B[0;31m---------------------------------------------------------------------------\u001B[0m",
      "\u001B[0;31mAttributeError\u001B[0m                            Traceback (most recent call last)",
      "Input \u001B[0;32mIn [64]\u001B[0m, in \u001B[0;36m<cell line: 1>\u001B[0;34m()\u001B[0m\n\u001B[0;32m----> 1\u001B[0m \u001B[38;5;28mprint\u001B[39m(\u001B[43mmodel\u001B[49m\u001B[38;5;241;43m.\u001B[39;49m\u001B[43mencoder\u001B[49m\u001B[38;5;241;43m.\u001B[39;49m\u001B[43mlayers\u001B[49m())\n",
      "\u001B[0;31mAttributeError\u001B[0m: 'FeaturePyramid' object has no attribute 'layers'"
     ]
    }
   ],
   "source": [
    "print(model.encoder.layers())"
   ],
   "metadata": {
    "collapsed": false,
    "pycharm": {
     "name": "#%%\n"
    }
   }
  },
  {
   "cell_type": "code",
   "execution_count": 1,
   "outputs": [
    {
     "ename": "NameError",
     "evalue": "name 'M4Depth' is not defined",
     "output_type": "error",
     "traceback": [
      "\u001B[0;31m---------------------------------------------------------------------------\u001B[0m",
      "\u001B[0;31mNameError\u001B[0m                                 Traceback (most recent call last)",
      "Input \u001B[0;32mIn [1]\u001B[0m, in \u001B[0;36m<cell line: 1>\u001B[0;34m()\u001B[0m\n\u001B[0;32m----> 1\u001B[0m model \u001B[38;5;241m=\u001B[39m \u001B[43mM4Depth\u001B[49m(nbre_levels\u001B[38;5;241m=\u001B[39m\u001B[38;5;241m6\u001B[39m, ablation_settings\u001B[38;5;241m=\u001B[39mablation_settings)\n\u001B[1;32m      3\u001B[0m model_checkpoint_cbk \u001B[38;5;241m=\u001B[39m CustomCheckpointCallback(weights_dir, resume_training\u001B[38;5;241m=\u001B[39m\u001B[38;5;28;01mTrue\u001B[39;00m)\n\u001B[1;32m      4\u001B[0m model\u001B[38;5;241m.\u001B[39mcompile(metrics\u001B[38;5;241m=\u001B[39m[AbsRelError(),\n\u001B[1;32m      5\u001B[0m                        SqRelError(),\n\u001B[1;32m      6\u001B[0m                        RootMeanSquaredError(),\n\u001B[1;32m      7\u001B[0m                        RootMeanSquaredLogError(),\n\u001B[1;32m      8\u001B[0m                        ThresholdRelError(\u001B[38;5;241m1\u001B[39m), ThresholdRelError(\u001B[38;5;241m2\u001B[39m), ThresholdRelError(\u001B[38;5;241m3\u001B[39m)])\n",
      "\u001B[0;31mNameError\u001B[0m: name 'M4Depth' is not defined"
     ]
    }
   ],
   "source": [
    "model = M4Depth(nbre_levels=6, ablation_settings=ablation_settings)\n",
    "\n",
    "model_checkpoint_cbk = CustomCheckpointCallback(weights_dir,\n",
    "                                                resume_training=True)\n",
    "model.compile(metrics=[AbsRelError(),\n",
    "                       SqRelError(),\n",
    "                       RootMeanSquaredError(),\n",
    "                       RootMeanSquaredLogError(),\n",
    "                       ThresholdRelError(1), ThresholdRelError(2),\n",
    "                       ThresholdRelError(3)])\n",
    "\n",
    "metrics = model.evaluate(data, callbacks=[model_checkpoint_cbk])"
   ],
   "metadata": {
    "collapsed": false,
    "pycharm": {
     "name": "#%%\n"
    }
   }
  },
  {
   "cell_type": "code",
   "execution_count": null,
   "outputs": [],
   "source": [
    "print(conv_layers_s1.weights)"
   ],
   "metadata": {
    "collapsed": false,
    "pycharm": {
     "name": "#%%\n"
    }
   }
  },
  {
   "cell_type": "code",
   "execution_count": null,
   "outputs": [],
   "source": [
    "x = data.take(1)\n",
    "model2 = ks.Model(inputs=x, outputs=model.call(x))\n",
    "print(model2.summary())"
   ],
   "metadata": {
    "collapsed": false,
    "pycharm": {
     "name": "#%%\n"
    }
   }
  },
  {
   "cell_type": "code",
   "execution_count": 6,
   "outputs": [],
   "source": [
    "model_mobilenet = tf.keras.applications.MobileNetV2(\n",
    "    input_shape=None,\n",
    "    alpha=1.0,\n",
    "    include_top=True,\n",
    "    weights=\"imagenet\",\n",
    "    input_tensor=None,\n",
    "    pooling=None,\n",
    "    classes=1000,\n",
    "    classifier_activation=\"softmax\"\n",
    ")\n",
    "\n"
   ],
   "metadata": {
    "collapsed": false,
    "pycharm": {
     "name": "#%%\n"
    }
   }
  },
  {
   "cell_type": "code",
   "execution_count": 32,
   "outputs": [
    {
     "name": "stdout",
     "output_type": "stream",
     "text": [
      "[['predictions', 0, 0]]\n",
      "Model: \"mobilenetv2_1.00_224\"\n",
      "__________________________________________________________________________________________________\n",
      " Layer (type)                   Output Shape         Param #     Connected to                     \n",
      "==================================================================================================\n",
      " input_1 (InputLayer)           [(None, 224, 224, 3  0           []                               \n",
      "                                )]                                                                \n",
      "                                                                                                  \n",
      " Conv1 (Conv2D)                 (None, 112, 112, 32  864         ['input_1[0][0]']                \n",
      "                                )                                                                 \n",
      "                                                                                                  \n",
      " bn_Conv1 (BatchNormalization)  (None, 112, 112, 32  128         ['Conv1[0][0]']                  \n",
      "                                )                                                                 \n",
      "                                                                                                  \n",
      " Conv1_relu (ReLU)              (None, 112, 112, 32  0           ['bn_Conv1[0][0]']               \n",
      "                                )                                                                 \n",
      "                                                                                                  \n",
      " expanded_conv_depthwise (Depth  (None, 112, 112, 32  288        ['Conv1_relu[0][0]']             \n",
      " wiseConv2D)                    )                                                                 \n",
      "                                                                                                  \n",
      " expanded_conv_depthwise_BN (Ba  (None, 112, 112, 32  128        ['expanded_conv_depthwise[0][0]']\n",
      " tchNormalization)              )                                                                 \n",
      "                                                                                                  \n",
      " expanded_conv_depthwise_relu (  (None, 112, 112, 32  0          ['expanded_conv_depthwise_BN[0][0\n",
      " ReLU)                          )                                ]']                              \n",
      "                                                                                                  \n",
      " expanded_conv_project (Conv2D)  (None, 112, 112, 16  512        ['expanded_conv_depthwise_relu[0]\n",
      "                                )                                [0]']                            \n",
      "                                                                                                  \n",
      " expanded_conv_project_BN (Batc  (None, 112, 112, 16  64         ['expanded_conv_project[0][0]']  \n",
      " hNormalization)                )                                                                 \n",
      "                                                                                                  \n",
      " block_1_expand (Conv2D)        (None, 112, 112, 96  1536        ['expanded_conv_project_BN[0][0]'\n",
      "                                )                                ]                                \n",
      "                                                                                                  \n",
      " block_1_expand_BN (BatchNormal  (None, 112, 112, 96  384        ['block_1_expand[0][0]']         \n",
      " ization)                       )                                                                 \n",
      "                                                                                                  \n",
      " block_1_expand_relu (ReLU)     (None, 112, 112, 96  0           ['block_1_expand_BN[0][0]']      \n",
      "                                )                                                                 \n",
      "                                                                                                  \n",
      " block_1_pad (ZeroPadding2D)    (None, 113, 113, 96  0           ['block_1_expand_relu[0][0]']    \n",
      "                                )                                                                 \n",
      "                                                                                                  \n",
      " block_1_depthwise (DepthwiseCo  (None, 56, 56, 96)  864         ['block_1_pad[0][0]']            \n",
      " nv2D)                                                                                            \n",
      "                                                                                                  \n",
      " block_1_depthwise_BN (BatchNor  (None, 56, 56, 96)  384         ['block_1_depthwise[0][0]']      \n",
      " malization)                                                                                      \n",
      "                                                                                                  \n",
      " block_1_depthwise_relu (ReLU)  (None, 56, 56, 96)   0           ['block_1_depthwise_BN[0][0]']   \n",
      "                                                                                                  \n",
      " block_1_project (Conv2D)       (None, 56, 56, 24)   2304        ['block_1_depthwise_relu[0][0]'] \n",
      "                                                                                                  \n",
      " block_1_project_BN (BatchNorma  (None, 56, 56, 24)  96          ['block_1_project[0][0]']        \n",
      " lization)                                                                                        \n",
      "                                                                                                  \n",
      " block_2_expand (Conv2D)        (None, 56, 56, 144)  3456        ['block_1_project_BN[0][0]']     \n",
      "                                                                                                  \n",
      " block_2_expand_BN (BatchNormal  (None, 56, 56, 144)  576        ['block_2_expand[0][0]']         \n",
      " ization)                                                                                         \n",
      "                                                                                                  \n",
      " block_2_expand_relu (ReLU)     (None, 56, 56, 144)  0           ['block_2_expand_BN[0][0]']      \n",
      "                                                                                                  \n",
      " block_2_depthwise (DepthwiseCo  (None, 56, 56, 144)  1296       ['block_2_expand_relu[0][0]']    \n",
      " nv2D)                                                                                            \n",
      "                                                                                                  \n",
      " block_2_depthwise_BN (BatchNor  (None, 56, 56, 144)  576        ['block_2_depthwise[0][0]']      \n",
      " malization)                                                                                      \n",
      "                                                                                                  \n",
      " block_2_depthwise_relu (ReLU)  (None, 56, 56, 144)  0           ['block_2_depthwise_BN[0][0]']   \n",
      "                                                                                                  \n",
      " block_2_project (Conv2D)       (None, 56, 56, 24)   3456        ['block_2_depthwise_relu[0][0]'] \n",
      "                                                                                                  \n",
      " block_2_project_BN (BatchNorma  (None, 56, 56, 24)  96          ['block_2_project[0][0]']        \n",
      " lization)                                                                                        \n",
      "                                                                                                  \n",
      " block_2_add (Add)              (None, 56, 56, 24)   0           ['block_1_project_BN[0][0]',     \n",
      "                                                                  'block_2_project_BN[0][0]']     \n",
      "                                                                                                  \n",
      " block_3_expand (Conv2D)        (None, 56, 56, 144)  3456        ['block_2_add[0][0]']            \n",
      "                                                                                                  \n",
      " block_3_expand_BN (BatchNormal  (None, 56, 56, 144)  576        ['block_3_expand[0][0]']         \n",
      " ization)                                                                                         \n",
      "                                                                                                  \n",
      " block_3_expand_relu (ReLU)     (None, 56, 56, 144)  0           ['block_3_expand_BN[0][0]']      \n",
      "                                                                                                  \n",
      " block_3_pad (ZeroPadding2D)    (None, 57, 57, 144)  0           ['block_3_expand_relu[0][0]']    \n",
      "                                                                                                  \n",
      " block_3_depthwise (DepthwiseCo  (None, 28, 28, 144)  1296       ['block_3_pad[0][0]']            \n",
      " nv2D)                                                                                            \n",
      "                                                                                                  \n",
      " block_3_depthwise_BN (BatchNor  (None, 28, 28, 144)  576        ['block_3_depthwise[0][0]']      \n",
      " malization)                                                                                      \n",
      "                                                                                                  \n",
      " block_3_depthwise_relu (ReLU)  (None, 28, 28, 144)  0           ['block_3_depthwise_BN[0][0]']   \n",
      "                                                                                                  \n",
      " block_3_project (Conv2D)       (None, 28, 28, 32)   4608        ['block_3_depthwise_relu[0][0]'] \n",
      "                                                                                                  \n",
      " block_3_project_BN (BatchNorma  (None, 28, 28, 32)  128         ['block_3_project[0][0]']        \n",
      " lization)                                                                                        \n",
      "                                                                                                  \n",
      " block_4_expand (Conv2D)        (None, 28, 28, 192)  6144        ['block_3_project_BN[0][0]']     \n",
      "                                                                                                  \n",
      " block_4_expand_BN (BatchNormal  (None, 28, 28, 192)  768        ['block_4_expand[0][0]']         \n",
      " ization)                                                                                         \n",
      "                                                                                                  \n",
      " block_4_expand_relu (ReLU)     (None, 28, 28, 192)  0           ['block_4_expand_BN[0][0]']      \n",
      "                                                                                                  \n",
      " block_4_depthwise (DepthwiseCo  (None, 28, 28, 192)  1728       ['block_4_expand_relu[0][0]']    \n",
      " nv2D)                                                                                            \n",
      "                                                                                                  \n",
      " block_4_depthwise_BN (BatchNor  (None, 28, 28, 192)  768        ['block_4_depthwise[0][0]']      \n",
      " malization)                                                                                      \n",
      "                                                                                                  \n",
      " block_4_depthwise_relu (ReLU)  (None, 28, 28, 192)  0           ['block_4_depthwise_BN[0][0]']   \n",
      "                                                                                                  \n",
      " block_4_project (Conv2D)       (None, 28, 28, 32)   6144        ['block_4_depthwise_relu[0][0]'] \n",
      "                                                                                                  \n",
      " block_4_project_BN (BatchNorma  (None, 28, 28, 32)  128         ['block_4_project[0][0]']        \n",
      " lization)                                                                                        \n",
      "                                                                                                  \n",
      " block_4_add (Add)              (None, 28, 28, 32)   0           ['block_3_project_BN[0][0]',     \n",
      "                                                                  'block_4_project_BN[0][0]']     \n",
      "                                                                                                  \n",
      " block_5_expand (Conv2D)        (None, 28, 28, 192)  6144        ['block_4_add[0][0]']            \n",
      "                                                                                                  \n",
      " block_5_expand_BN (BatchNormal  (None, 28, 28, 192)  768        ['block_5_expand[0][0]']         \n",
      " ization)                                                                                         \n",
      "                                                                                                  \n",
      " block_5_expand_relu (ReLU)     (None, 28, 28, 192)  0           ['block_5_expand_BN[0][0]']      \n",
      "                                                                                                  \n",
      " block_5_depthwise (DepthwiseCo  (None, 28, 28, 192)  1728       ['block_5_expand_relu[0][0]']    \n",
      " nv2D)                                                                                            \n",
      "                                                                                                  \n",
      " block_5_depthwise_BN (BatchNor  (None, 28, 28, 192)  768        ['block_5_depthwise[0][0]']      \n",
      " malization)                                                                                      \n",
      "                                                                                                  \n",
      " block_5_depthwise_relu (ReLU)  (None, 28, 28, 192)  0           ['block_5_depthwise_BN[0][0]']   \n",
      "                                                                                                  \n",
      " block_5_project (Conv2D)       (None, 28, 28, 32)   6144        ['block_5_depthwise_relu[0][0]'] \n",
      "                                                                                                  \n",
      " block_5_project_BN (BatchNorma  (None, 28, 28, 32)  128         ['block_5_project[0][0]']        \n",
      " lization)                                                                                        \n",
      "                                                                                                  \n",
      " block_5_add (Add)              (None, 28, 28, 32)   0           ['block_4_add[0][0]',            \n",
      "                                                                  'block_5_project_BN[0][0]']     \n",
      "                                                                                                  \n",
      " block_6_expand (Conv2D)        (None, 28, 28, 192)  6144        ['block_5_add[0][0]']            \n",
      "                                                                                                  \n",
      " block_6_expand_BN (BatchNormal  (None, 28, 28, 192)  768        ['block_6_expand[0][0]']         \n",
      " ization)                                                                                         \n",
      "                                                                                                  \n",
      " block_6_expand_relu (ReLU)     (None, 28, 28, 192)  0           ['block_6_expand_BN[0][0]']      \n",
      "                                                                                                  \n",
      " block_6_pad (ZeroPadding2D)    (None, 29, 29, 192)  0           ['block_6_expand_relu[0][0]']    \n",
      "                                                                                                  \n",
      " block_6_depthwise (DepthwiseCo  (None, 14, 14, 192)  1728       ['block_6_pad[0][0]']            \n",
      " nv2D)                                                                                            \n",
      "                                                                                                  \n",
      " block_6_depthwise_BN (BatchNor  (None, 14, 14, 192)  768        ['block_6_depthwise[0][0]']      \n",
      " malization)                                                                                      \n",
      "                                                                                                  \n",
      " block_6_depthwise_relu (ReLU)  (None, 14, 14, 192)  0           ['block_6_depthwise_BN[0][0]']   \n",
      "                                                                                                  \n",
      " block_6_project (Conv2D)       (None, 14, 14, 64)   12288       ['block_6_depthwise_relu[0][0]'] \n",
      "                                                                                                  \n",
      " block_6_project_BN (BatchNorma  (None, 14, 14, 64)  256         ['block_6_project[0][0]']        \n",
      " lization)                                                                                        \n",
      "                                                                                                  \n",
      " block_7_expand (Conv2D)        (None, 14, 14, 384)  24576       ['block_6_project_BN[0][0]']     \n",
      "                                                                                                  \n",
      " block_7_expand_BN (BatchNormal  (None, 14, 14, 384)  1536       ['block_7_expand[0][0]']         \n",
      " ization)                                                                                         \n",
      "                                                                                                  \n",
      " block_7_expand_relu (ReLU)     (None, 14, 14, 384)  0           ['block_7_expand_BN[0][0]']      \n",
      "                                                                                                  \n",
      " block_7_depthwise (DepthwiseCo  (None, 14, 14, 384)  3456       ['block_7_expand_relu[0][0]']    \n",
      " nv2D)                                                                                            \n",
      "                                                                                                  \n",
      " block_7_depthwise_BN (BatchNor  (None, 14, 14, 384)  1536       ['block_7_depthwise[0][0]']      \n",
      " malization)                                                                                      \n",
      "                                                                                                  \n",
      " block_7_depthwise_relu (ReLU)  (None, 14, 14, 384)  0           ['block_7_depthwise_BN[0][0]']   \n",
      "                                                                                                  \n",
      " block_7_project (Conv2D)       (None, 14, 14, 64)   24576       ['block_7_depthwise_relu[0][0]'] \n",
      "                                                                                                  \n",
      " block_7_project_BN (BatchNorma  (None, 14, 14, 64)  256         ['block_7_project[0][0]']        \n",
      " lization)                                                                                        \n",
      "                                                                                                  \n",
      " block_7_add (Add)              (None, 14, 14, 64)   0           ['block_6_project_BN[0][0]',     \n",
      "                                                                  'block_7_project_BN[0][0]']     \n",
      "                                                                                                  \n",
      " block_8_expand (Conv2D)        (None, 14, 14, 384)  24576       ['block_7_add[0][0]']            \n",
      "                                                                                                  \n",
      " block_8_expand_BN (BatchNormal  (None, 14, 14, 384)  1536       ['block_8_expand[0][0]']         \n",
      " ization)                                                                                         \n",
      "                                                                                                  \n",
      " block_8_expand_relu (ReLU)     (None, 14, 14, 384)  0           ['block_8_expand_BN[0][0]']      \n",
      "                                                                                                  \n",
      " block_8_depthwise (DepthwiseCo  (None, 14, 14, 384)  3456       ['block_8_expand_relu[0][0]']    \n",
      " nv2D)                                                                                            \n",
      "                                                                                                  \n",
      " block_8_depthwise_BN (BatchNor  (None, 14, 14, 384)  1536       ['block_8_depthwise[0][0]']      \n",
      " malization)                                                                                      \n",
      "                                                                                                  \n",
      " block_8_depthwise_relu (ReLU)  (None, 14, 14, 384)  0           ['block_8_depthwise_BN[0][0]']   \n",
      "                                                                                                  \n",
      " block_8_project (Conv2D)       (None, 14, 14, 64)   24576       ['block_8_depthwise_relu[0][0]'] \n",
      "                                                                                                  \n",
      " block_8_project_BN (BatchNorma  (None, 14, 14, 64)  256         ['block_8_project[0][0]']        \n",
      " lization)                                                                                        \n",
      "                                                                                                  \n",
      " block_8_add (Add)              (None, 14, 14, 64)   0           ['block_7_add[0][0]',            \n",
      "                                                                  'block_8_project_BN[0][0]']     \n",
      "                                                                                                  \n",
      " block_9_expand (Conv2D)        (None, 14, 14, 384)  24576       ['block_8_add[0][0]']            \n",
      "                                                                                                  \n",
      " block_9_expand_BN (BatchNormal  (None, 14, 14, 384)  1536       ['block_9_expand[0][0]']         \n",
      " ization)                                                                                         \n",
      "                                                                                                  \n",
      " block_9_expand_relu (ReLU)     (None, 14, 14, 384)  0           ['block_9_expand_BN[0][0]']      \n",
      "                                                                                                  \n",
      " block_9_depthwise (DepthwiseCo  (None, 14, 14, 384)  3456       ['block_9_expand_relu[0][0]']    \n",
      " nv2D)                                                                                            \n",
      "                                                                                                  \n",
      " block_9_depthwise_BN (BatchNor  (None, 14, 14, 384)  1536       ['block_9_depthwise[0][0]']      \n",
      " malization)                                                                                      \n",
      "                                                                                                  \n",
      " block_9_depthwise_relu (ReLU)  (None, 14, 14, 384)  0           ['block_9_depthwise_BN[0][0]']   \n",
      "                                                                                                  \n",
      " block_9_project (Conv2D)       (None, 14, 14, 64)   24576       ['block_9_depthwise_relu[0][0]'] \n",
      "                                                                                                  \n",
      " block_9_project_BN (BatchNorma  (None, 14, 14, 64)  256         ['block_9_project[0][0]']        \n",
      " lization)                                                                                        \n",
      "                                                                                                  \n",
      " block_9_add (Add)              (None, 14, 14, 64)   0           ['block_8_add[0][0]',            \n",
      "                                                                  'block_9_project_BN[0][0]']     \n",
      "                                                                                                  \n",
      " block_10_expand (Conv2D)       (None, 14, 14, 384)  24576       ['block_9_add[0][0]']            \n",
      "                                                                                                  \n",
      " block_10_expand_BN (BatchNorma  (None, 14, 14, 384)  1536       ['block_10_expand[0][0]']        \n",
      " lization)                                                                                        \n",
      "                                                                                                  \n",
      " block_10_expand_relu (ReLU)    (None, 14, 14, 384)  0           ['block_10_expand_BN[0][0]']     \n",
      "                                                                                                  \n",
      " block_10_depthwise (DepthwiseC  (None, 14, 14, 384)  3456       ['block_10_expand_relu[0][0]']   \n",
      " onv2D)                                                                                           \n",
      "                                                                                                  \n",
      " block_10_depthwise_BN (BatchNo  (None, 14, 14, 384)  1536       ['block_10_depthwise[0][0]']     \n",
      " rmalization)                                                                                     \n",
      "                                                                                                  \n",
      " block_10_depthwise_relu (ReLU)  (None, 14, 14, 384)  0          ['block_10_depthwise_BN[0][0]']  \n",
      "                                                                                                  \n",
      " block_10_project (Conv2D)      (None, 14, 14, 96)   36864       ['block_10_depthwise_relu[0][0]']\n",
      "                                                                                                  \n",
      " block_10_project_BN (BatchNorm  (None, 14, 14, 96)  384         ['block_10_project[0][0]']       \n",
      " alization)                                                                                       \n",
      "                                                                                                  \n",
      " block_11_expand (Conv2D)       (None, 14, 14, 576)  55296       ['block_10_project_BN[0][0]']    \n",
      "                                                                                                  \n",
      " block_11_expand_BN (BatchNorma  (None, 14, 14, 576)  2304       ['block_11_expand[0][0]']        \n",
      " lization)                                                                                        \n",
      "                                                                                                  \n",
      " block_11_expand_relu (ReLU)    (None, 14, 14, 576)  0           ['block_11_expand_BN[0][0]']     \n",
      "                                                                                                  \n",
      " block_11_depthwise (DepthwiseC  (None, 14, 14, 576)  5184       ['block_11_expand_relu[0][0]']   \n",
      " onv2D)                                                                                           \n",
      "                                                                                                  \n",
      " block_11_depthwise_BN (BatchNo  (None, 14, 14, 576)  2304       ['block_11_depthwise[0][0]']     \n",
      " rmalization)                                                                                     \n",
      "                                                                                                  \n",
      " block_11_depthwise_relu (ReLU)  (None, 14, 14, 576)  0          ['block_11_depthwise_BN[0][0]']  \n",
      "                                                                                                  \n",
      " block_11_project (Conv2D)      (None, 14, 14, 96)   55296       ['block_11_depthwise_relu[0][0]']\n",
      "                                                                                                  \n",
      " block_11_project_BN (BatchNorm  (None, 14, 14, 96)  384         ['block_11_project[0][0]']       \n",
      " alization)                                                                                       \n",
      "                                                                                                  \n",
      " block_11_add (Add)             (None, 14, 14, 96)   0           ['block_10_project_BN[0][0]',    \n",
      "                                                                  'block_11_project_BN[0][0]']    \n",
      "                                                                                                  \n",
      " block_12_expand (Conv2D)       (None, 14, 14, 576)  55296       ['block_11_add[0][0]']           \n",
      "                                                                                                  \n",
      " block_12_expand_BN (BatchNorma  (None, 14, 14, 576)  2304       ['block_12_expand[0][0]']        \n",
      " lization)                                                                                        \n",
      "                                                                                                  \n",
      " block_12_expand_relu (ReLU)    (None, 14, 14, 576)  0           ['block_12_expand_BN[0][0]']     \n",
      "                                                                                                  \n",
      " block_12_depthwise (DepthwiseC  (None, 14, 14, 576)  5184       ['block_12_expand_relu[0][0]']   \n",
      " onv2D)                                                                                           \n",
      "                                                                                                  \n",
      " block_12_depthwise_BN (BatchNo  (None, 14, 14, 576)  2304       ['block_12_depthwise[0][0]']     \n",
      " rmalization)                                                                                     \n",
      "                                                                                                  \n",
      " block_12_depthwise_relu (ReLU)  (None, 14, 14, 576)  0          ['block_12_depthwise_BN[0][0]']  \n",
      "                                                                                                  \n",
      " block_12_project (Conv2D)      (None, 14, 14, 96)   55296       ['block_12_depthwise_relu[0][0]']\n",
      "                                                                                                  \n",
      " block_12_project_BN (BatchNorm  (None, 14, 14, 96)  384         ['block_12_project[0][0]']       \n",
      " alization)                                                                                       \n",
      "                                                                                                  \n",
      " block_12_add (Add)             (None, 14, 14, 96)   0           ['block_11_add[0][0]',           \n",
      "                                                                  'block_12_project_BN[0][0]']    \n",
      "                                                                                                  \n",
      " block_13_expand (Conv2D)       (None, 14, 14, 576)  55296       ['block_12_add[0][0]']           \n",
      "                                                                                                  \n",
      " block_13_expand_BN (BatchNorma  (None, 14, 14, 576)  2304       ['block_13_expand[0][0]']        \n",
      " lization)                                                                                        \n",
      "                                                                                                  \n",
      " block_13_expand_relu (ReLU)    (None, 14, 14, 576)  0           ['block_13_expand_BN[0][0]']     \n",
      "                                                                                                  \n",
      " block_13_pad (ZeroPadding2D)   (None, 15, 15, 576)  0           ['block_13_expand_relu[0][0]']   \n",
      "                                                                                                  \n",
      " block_13_depthwise (DepthwiseC  (None, 7, 7, 576)   5184        ['block_13_pad[0][0]']           \n",
      " onv2D)                                                                                           \n",
      "                                                                                                  \n",
      " block_13_depthwise_BN (BatchNo  (None, 7, 7, 576)   2304        ['block_13_depthwise[0][0]']     \n",
      " rmalization)                                                                                     \n",
      "                                                                                                  \n",
      " block_13_depthwise_relu (ReLU)  (None, 7, 7, 576)   0           ['block_13_depthwise_BN[0][0]']  \n",
      "                                                                                                  \n",
      " block_13_project (Conv2D)      (None, 7, 7, 160)    92160       ['block_13_depthwise_relu[0][0]']\n",
      "                                                                                                  \n",
      " block_13_project_BN (BatchNorm  (None, 7, 7, 160)   640         ['block_13_project[0][0]']       \n",
      " alization)                                                                                       \n",
      "                                                                                                  \n",
      " block_14_expand (Conv2D)       (None, 7, 7, 960)    153600      ['block_13_project_BN[0][0]']    \n",
      "                                                                                                  \n",
      " block_14_expand_BN (BatchNorma  (None, 7, 7, 960)   3840        ['block_14_expand[0][0]']        \n",
      " lization)                                                                                        \n",
      "                                                                                                  \n",
      " block_14_expand_relu (ReLU)    (None, 7, 7, 960)    0           ['block_14_expand_BN[0][0]']     \n",
      "                                                                                                  \n",
      " block_14_depthwise (DepthwiseC  (None, 7, 7, 960)   8640        ['block_14_expand_relu[0][0]']   \n",
      " onv2D)                                                                                           \n",
      "                                                                                                  \n",
      " block_14_depthwise_BN (BatchNo  (None, 7, 7, 960)   3840        ['block_14_depthwise[0][0]']     \n",
      " rmalization)                                                                                     \n",
      "                                                                                                  \n",
      " block_14_depthwise_relu (ReLU)  (None, 7, 7, 960)   0           ['block_14_depthwise_BN[0][0]']  \n",
      "                                                                                                  \n",
      " block_14_project (Conv2D)      (None, 7, 7, 160)    153600      ['block_14_depthwise_relu[0][0]']\n",
      "                                                                                                  \n",
      " block_14_project_BN (BatchNorm  (None, 7, 7, 160)   640         ['block_14_project[0][0]']       \n",
      " alization)                                                                                       \n",
      "                                                                                                  \n",
      " block_14_add (Add)             (None, 7, 7, 160)    0           ['block_13_project_BN[0][0]',    \n",
      "                                                                  'block_14_project_BN[0][0]']    \n",
      "                                                                                                  \n",
      " block_15_expand (Conv2D)       (None, 7, 7, 960)    153600      ['block_14_add[0][0]']           \n",
      "                                                                                                  \n",
      " block_15_expand_BN (BatchNorma  (None, 7, 7, 960)   3840        ['block_15_expand[0][0]']        \n",
      " lization)                                                                                        \n",
      "                                                                                                  \n",
      " block_15_expand_relu (ReLU)    (None, 7, 7, 960)    0           ['block_15_expand_BN[0][0]']     \n",
      "                                                                                                  \n",
      " block_15_depthwise (DepthwiseC  (None, 7, 7, 960)   8640        ['block_15_expand_relu[0][0]']   \n",
      " onv2D)                                                                                           \n",
      "                                                                                                  \n",
      " block_15_depthwise_BN (BatchNo  (None, 7, 7, 960)   3840        ['block_15_depthwise[0][0]']     \n",
      " rmalization)                                                                                     \n",
      "                                                                                                  \n",
      " block_15_depthwise_relu (ReLU)  (None, 7, 7, 960)   0           ['block_15_depthwise_BN[0][0]']  \n",
      "                                                                                                  \n",
      " block_15_project (Conv2D)      (None, 7, 7, 160)    153600      ['block_15_depthwise_relu[0][0]']\n",
      "                                                                                                  \n",
      " block_15_project_BN (BatchNorm  (None, 7, 7, 160)   640         ['block_15_project[0][0]']       \n",
      " alization)                                                                                       \n",
      "                                                                                                  \n",
      " block_15_add (Add)             (None, 7, 7, 160)    0           ['block_14_add[0][0]',           \n",
      "                                                                  'block_15_project_BN[0][0]']    \n",
      "                                                                                                  \n",
      " block_16_expand (Conv2D)       (None, 7, 7, 960)    153600      ['block_15_add[0][0]']           \n",
      "                                                                                                  \n",
      " block_16_expand_BN (BatchNorma  (None, 7, 7, 960)   3840        ['block_16_expand[0][0]']        \n",
      " lization)                                                                                        \n",
      "                                                                                                  \n",
      " block_16_expand_relu (ReLU)    (None, 7, 7, 960)    0           ['block_16_expand_BN[0][0]']     \n",
      "                                                                                                  \n",
      " block_16_depthwise (DepthwiseC  (None, 7, 7, 960)   8640        ['block_16_expand_relu[0][0]']   \n",
      " onv2D)                                                                                           \n",
      "                                                                                                  \n",
      " block_16_depthwise_BN (BatchNo  (None, 7, 7, 960)   3840        ['block_16_depthwise[0][0]']     \n",
      " rmalization)                                                                                     \n",
      "                                                                                                  \n",
      " block_16_depthwise_relu (ReLU)  (None, 7, 7, 960)   0           ['block_16_depthwise_BN[0][0]']  \n",
      "                                                                                                  \n",
      " block_16_project (Conv2D)      (None, 7, 7, 320)    307200      ['block_16_depthwise_relu[0][0]']\n",
      "                                                                                                  \n",
      " block_16_project_BN (BatchNorm  (None, 7, 7, 320)   1280        ['block_16_project[0][0]']       \n",
      " alization)                                                                                       \n",
      "                                                                                                  \n",
      " Conv_1 (Conv2D)                (None, 7, 7, 1280)   409600      ['block_16_project_BN[0][0]']    \n",
      "                                                                                                  \n",
      " Conv_1_bn (BatchNormalization)  (None, 7, 7, 1280)  5120        ['Conv_1[0][0]']                 \n",
      "                                                                                                  \n",
      " out_relu (ReLU)                (None, 7, 7, 1280)   0           ['Conv_1_bn[0][0]']              \n",
      "                                                                                                  \n",
      " global_average_pooling2d (Glob  (None, 1280)        0           ['out_relu[0][0]']               \n",
      " alAveragePooling2D)                                                                              \n",
      "                                                                                                  \n",
      " predictions (Dense)            (None, 1000)         1281000     ['global_average_pooling2d[0][0]'\n",
      "                                                                 ]                                \n",
      "                                                                                                  \n",
      "==================================================================================================\n",
      "Total params: 3,538,984\n",
      "Trainable params: 3,504,872\n",
      "Non-trainable params: 34,112\n",
      "__________________________________________________________________________________________________\n",
      "None\n"
     ]
    }
   ],
   "source": [
    "print(model_mobilenet.get_config()[\"output_layers\"])\n",
    "print(model_mobilenet.summary())\n",
    "#vis_utils.plot_model(model_mobilenet, to_file='model.png', show_shapes=True,\n",
    "#expand_nested=True, dpi=300)"
   ],
   "metadata": {
    "collapsed": false,
    "pycharm": {
     "name": "#%%\n"
    }
   }
  },
  {
   "cell_type": "code",
   "execution_count": 8,
   "metadata": {
    "pycharm": {
     "name": "#%%\n"
    }
   },
   "outputs": [
    {
     "name": "stdout",
     "output_type": "stream",
     "text": [
      "Model: \"m4_depth\"\n",
      "_________________________________________________________________\n",
      " Layer (type)                Output Shape              Param #   \n",
      "=================================================================\n",
      " feature_pyramid (FeaturePyr  multiple                 1022192   \n",
      " amid)                                                           \n",
      "                                                                 \n",
      " depth_estimator_pyramid (De  multiple                 4632018   \n",
      " pthEstimatorPyramid)                                            \n",
      "                                                                 \n",
      "=================================================================\n",
      "Total params: 5,654,211\n",
      "Trainable params: 4,492,238\n",
      "Non-trainable params: 1,161,973\n",
      "_________________________________________________________________\n",
      "None\n"
     ]
    },
    {
     "data": {
      "image/png": "[encoded data removed]",
      "text/plain": "<IPython.core.display.Image object>"
     },
     "execution_count": 8,
     "metadata": {},
     "output_type": "execute_result"
    }
   ],
   "source": [
    "from keras.utils import vis_utils\n",
    "\n",
    "print(model.summary(expand_nested=True))\n",
    "#print(model.get_config())\n",
    "vis_utils.plot_model(model, to_file='model.png', show_shapes=True,\n",
    "                     expand_nested=True, dpi=300)"
   ]
  },
  {
   "cell_type": "code",
   "execution_count": 8,
   "outputs": [],
   "source": [],
   "metadata": {
    "collapsed": false,
    "pycharm": {
     "name": "#%%\n"
    }
   }
  },
  {
   "cell_type": "code",
   "execution_count": 42,
   "outputs": [
    {
     "name": "stdout",
     "output_type": "stream",
     "text": [
      "Restoring weights from pretrained_weights/midair/best/cp-0071.ckpt\n",
      "Seq sample 0\n",
      "Seq sample 0\n",
      "21/21 [==============================] - 16s 512ms/step - AbsRel: 0.0079 - SqRel: 0.0407 - RMSE: 1.4810 - RMSE_log: 0.0276 - Delta1: 0.9981 - Delta2: 0.9990 - Delta3: 0.9997\n"
     ]
    }
   ],
   "source": [
    "from m4depth_h5_network import NEWM4Depth\n",
    "\n",
    "new_model = NEWM4Depth(nbre_levels=6, ablation_settings=ablation_settings)\n",
    "new_model.compile(metrics=[AbsRelError(),\n",
    "                           SqRelError(),\n",
    "                           RootMeanSquaredError(),\n",
    "                           RootMeanSquaredLogError(),\n",
    "                           ThresholdRelError(1),\n",
    "                           ThresholdRelError(2), ThresholdRelError(3)])\n",
    "\n",
    "metrics = new_model.evaluate(data, callbacks=[model_checkpoint_cbk])"
   ],
   "metadata": {
    "collapsed": false,
    "pycharm": {
     "name": "#%%\n"
    }
   }
  },
  {
   "cell_type": "code",
   "execution_count": null,
   "outputs": [],
   "source": [],
   "metadata": {
    "collapsed": false,
    "pycharm": {
     "name": "#%%\n"
    }
   }
  },
  {
   "cell_type": "code",
   "execution_count": 43,
   "outputs": [
    {
     "ename": "TypeError",
     "evalue": "Exception encountered when calling layer \"newm4_depth_8\" (type NEWM4Depth).\n\nin user code:\n\n    File \"/Users/pascalleroy/Documents/m4depth/M4Depth/m4depth_h5_network.py\", line 406, in call  *\n        traj_samples = data[0]\n\n    TypeError: '_VariantDataset' object is not subscriptable\n\n\nCall arguments received by layer \"newm4_depth_8\" (type NEWM4Depth):\n  • data=<TakeDataset element_spec={'camera': {'f': TensorSpec(shape=(1, 2), dtype=tf.float32, name=None), 'c': TensorSpec(shape=(1, 2), dtype=tf.float32, name=None)}, 'RGB_im': TensorSpec(shape=(1, 384, 384, 3), dtype=tf.float32, name=None), 'rot': TensorSpec(shape=(1, 4), dtype=tf.float32, name=None), 'trans': TensorSpec(shape=(1, 3), dtype=tf.float32, name=None), 'new_traj': TensorSpec(shape=(1,), dtype=tf.bool, name=None), 'depth': TensorSpec(shape=(1, 384, 384, 1), dtype=tf.float32, name=None)}>\n  • training=False",
     "output_type": "error",
     "traceback": [
      "\u001B[0;31m---------------------------------------------------------------------------\u001B[0m",
      "\u001B[0;31mTypeError\u001B[0m                                 Traceback (most recent call last)",
      "Input \u001B[0;32mIn [43]\u001B[0m, in \u001B[0;36m<cell line: 2>\u001B[0;34m()\u001B[0m\n\u001B[1;32m      1\u001B[0m first_sample \u001B[38;5;241m=\u001B[39m data\u001B[38;5;241m.\u001B[39mtake(\u001B[38;5;241m1\u001B[39m)\n\u001B[0;32m----> 2\u001B[0m a\u001B[38;5;241m=\u001B[39m \u001B[43mnew_model\u001B[49m\u001B[43m(\u001B[49m\u001B[43mfirst_sample\u001B[49m\u001B[43m)\u001B[49m\n\u001B[1;32m      3\u001B[0m \u001B[38;5;28mprint\u001B[39m(a)\n",
      "File \u001B[0;32m~/Documents/m4depth/M4Depth/env/lib/python3.8/site-packages/keras/utils/traceback_utils.py:67\u001B[0m, in \u001B[0;36mfilter_traceback.<locals>.error_handler\u001B[0;34m(*args, **kwargs)\u001B[0m\n\u001B[1;32m     65\u001B[0m \u001B[38;5;28;01mexcept\u001B[39;00m \u001B[38;5;167;01mException\u001B[39;00m \u001B[38;5;28;01mas\u001B[39;00m e:  \u001B[38;5;66;03m# pylint: disable=broad-except\u001B[39;00m\n\u001B[1;32m     66\u001B[0m   filtered_tb \u001B[38;5;241m=\u001B[39m _process_traceback_frames(e\u001B[38;5;241m.\u001B[39m__traceback__)\n\u001B[0;32m---> 67\u001B[0m   \u001B[38;5;28;01mraise\u001B[39;00m e\u001B[38;5;241m.\u001B[39mwith_traceback(filtered_tb) \u001B[38;5;28;01mfrom\u001B[39;00m \u001B[38;5;28mNone\u001B[39m\n\u001B[1;32m     68\u001B[0m \u001B[38;5;28;01mfinally\u001B[39;00m:\n\u001B[1;32m     69\u001B[0m   \u001B[38;5;28;01mdel\u001B[39;00m filtered_tb\n",
      "File \u001B[0;32m/var/folders/z_/cgwpz9z57_l8flrcm90f9p580000gn/T/__autograph_generated_file0ci5wwfz.py:10\u001B[0m, in \u001B[0;36mouter_factory.<locals>.inner_factory.<locals>.tf__call\u001B[0;34m(self, data, training)\u001B[0m\n\u001B[1;32m      8\u001B[0m do_return \u001B[38;5;241m=\u001B[39m \u001B[38;5;28;01mFalse\u001B[39;00m\n\u001B[1;32m      9\u001B[0m retval_ \u001B[38;5;241m=\u001B[39m ag__\u001B[38;5;241m.\u001B[39mUndefinedReturnValue()\n\u001B[0;32m---> 10\u001B[0m traj_samples \u001B[38;5;241m=\u001B[39m ag__\u001B[38;5;241m.\u001B[39mld(data)[\u001B[38;5;241m0\u001B[39m]\n\u001B[1;32m     11\u001B[0m camera \u001B[38;5;241m=\u001B[39m ag__\u001B[38;5;241m.\u001B[39mld(data)[\u001B[38;5;241m1\u001B[39m]\n\u001B[1;32m     12\u001B[0m \u001B[38;5;28;01mwith\u001B[39;00m ag__\u001B[38;5;241m.\u001B[39mld(tf)\u001B[38;5;241m.\u001B[39mname_scope(\u001B[38;5;124m'\u001B[39m\u001B[38;5;124mM4Depth\u001B[39m\u001B[38;5;124m'\u001B[39m):\n",
      "\u001B[0;31mTypeError\u001B[0m: Exception encountered when calling layer \"newm4_depth_8\" (type NEWM4Depth).\n\nin user code:\n\n    File \"/Users/pascalleroy/Documents/m4depth/M4Depth/m4depth_h5_network.py\", line 406, in call  *\n        traj_samples = data[0]\n\n    TypeError: '_VariantDataset' object is not subscriptable\n\n\nCall arguments received by layer \"newm4_depth_8\" (type NEWM4Depth):\n  • data=<TakeDataset element_spec={'camera': {'f': TensorSpec(shape=(1, 2), dtype=tf.float32, name=None), 'c': TensorSpec(shape=(1, 2), dtype=tf.float32, name=None)}, 'RGB_im': TensorSpec(shape=(1, 384, 384, 3), dtype=tf.float32, name=None), 'rot': TensorSpec(shape=(1, 4), dtype=tf.float32, name=None), 'trans': TensorSpec(shape=(1, 3), dtype=tf.float32, name=None), 'new_traj': TensorSpec(shape=(1,), dtype=tf.bool, name=None), 'depth': TensorSpec(shape=(1, 384, 384, 1), dtype=tf.float32, name=None)}>\n  • training=False"
     ]
    }
   ],
   "source": [
    "first_sample = data.take(1)\n",
    "a = new_model(first_sample)\n",
    "print(a)"
   ],
   "metadata": {
    "collapsed": false,
    "pycharm": {
     "name": "#%%\n"
    }
   }
  },
  {
   "cell_type": "code",
   "execution_count": 40,
   "outputs": [
    {
     "ename": "TypeError",
     "evalue": "in user code:\n\n    File \"/Users/pascalleroy/Documents/m4depth/M4Depth/env/lib/python3.8/site-packages/keras/engine/training.py\", line 1845, in predict_function  *\n        return step_function(self, iterator)\n    File \"/Users/pascalleroy/Documents/m4depth/M4Depth/m4depth_h5_network.py\", line 552, in predict_step  *\n        preds = self([[data], data[\"camera\"]], training=False)\n\n    TypeError: tuple indices must be integers or slices, not str\n",
     "output_type": "error",
     "traceback": [
      "\u001B[0;31m---------------------------------------------------------------------------\u001B[0m",
      "\u001B[0;31mTypeError\u001B[0m                                 Traceback (most recent call last)",
      "Input \u001B[0;32mIn [40]\u001B[0m, in \u001B[0;36m<cell line: 1>\u001B[0;34m()\u001B[0m\n\u001B[1;32m      1\u001B[0m \u001B[38;5;28;01mfor\u001B[39;00m i, sample \u001B[38;5;129;01min\u001B[39;00m \u001B[38;5;28menumerate\u001B[39m(data):\n\u001B[0;32m----> 2\u001B[0m     a\u001B[38;5;241m=\u001B[39m\u001B[43mnew_model\u001B[49m\u001B[38;5;241;43m.\u001B[39;49m\u001B[43mpredict\u001B[49m\u001B[43m(\u001B[49m\u001B[43msample\u001B[49m\u001B[43m)\u001B[49m\n\u001B[1;32m      3\u001B[0m     \u001B[38;5;28;01mbreak\u001B[39;00m\n",
      "File \u001B[0;32m~/Documents/m4depth/M4Depth/env/lib/python3.8/site-packages/keras/utils/traceback_utils.py:67\u001B[0m, in \u001B[0;36mfilter_traceback.<locals>.error_handler\u001B[0;34m(*args, **kwargs)\u001B[0m\n\u001B[1;32m     65\u001B[0m \u001B[38;5;28;01mexcept\u001B[39;00m \u001B[38;5;167;01mException\u001B[39;00m \u001B[38;5;28;01mas\u001B[39;00m e:  \u001B[38;5;66;03m# pylint: disable=broad-except\u001B[39;00m\n\u001B[1;32m     66\u001B[0m   filtered_tb \u001B[38;5;241m=\u001B[39m _process_traceback_frames(e\u001B[38;5;241m.\u001B[39m__traceback__)\n\u001B[0;32m---> 67\u001B[0m   \u001B[38;5;28;01mraise\u001B[39;00m e\u001B[38;5;241m.\u001B[39mwith_traceback(filtered_tb) \u001B[38;5;28;01mfrom\u001B[39;00m \u001B[38;5;28mNone\u001B[39m\n\u001B[1;32m     68\u001B[0m \u001B[38;5;28;01mfinally\u001B[39;00m:\n\u001B[1;32m     69\u001B[0m   \u001B[38;5;28;01mdel\u001B[39;00m filtered_tb\n",
      "File \u001B[0;32m/var/folders/z_/cgwpz9z57_l8flrcm90f9p580000gn/T/__autograph_generated_file7uuo1ua2.py:15\u001B[0m, in \u001B[0;36mouter_factory.<locals>.inner_factory.<locals>.tf__predict_function\u001B[0;34m(iterator)\u001B[0m\n\u001B[1;32m     13\u001B[0m \u001B[38;5;28;01mtry\u001B[39;00m:\n\u001B[1;32m     14\u001B[0m     do_return \u001B[38;5;241m=\u001B[39m \u001B[38;5;28;01mTrue\u001B[39;00m\n\u001B[0;32m---> 15\u001B[0m     retval_ \u001B[38;5;241m=\u001B[39m ag__\u001B[38;5;241m.\u001B[39mconverted_call(ag__\u001B[38;5;241m.\u001B[39mld(step_function), (ag__\u001B[38;5;241m.\u001B[39mld(\u001B[38;5;28mself\u001B[39m), ag__\u001B[38;5;241m.\u001B[39mld(iterator)), \u001B[38;5;28;01mNone\u001B[39;00m, fscope)\n\u001B[1;32m     16\u001B[0m \u001B[38;5;28;01mexcept\u001B[39;00m:\n\u001B[1;32m     17\u001B[0m     do_return \u001B[38;5;241m=\u001B[39m \u001B[38;5;28;01mFalse\u001B[39;00m\n",
      "File \u001B[0;32m/var/folders/z_/cgwpz9z57_l8flrcm90f9p580000gn/T/__autograph_generated_fileahmsse6u.py:10\u001B[0m, in \u001B[0;36mouter_factory.<locals>.inner_factory.<locals>.tf__predict_step\u001B[0;34m(self, data)\u001B[0m\n\u001B[1;32m      8\u001B[0m do_return \u001B[38;5;241m=\u001B[39m \u001B[38;5;28;01mFalse\u001B[39;00m\n\u001B[1;32m      9\u001B[0m retval_ \u001B[38;5;241m=\u001B[39m ag__\u001B[38;5;241m.\u001B[39mUndefinedReturnValue()\n\u001B[0;32m---> 10\u001B[0m preds \u001B[38;5;241m=\u001B[39m ag__\u001B[38;5;241m.\u001B[39mconverted_call(ag__\u001B[38;5;241m.\u001B[39mld(\u001B[38;5;28mself\u001B[39m), ([[ag__\u001B[38;5;241m.\u001B[39mld(data)], ag__\u001B[38;5;241m.\u001B[39mld(data)[\u001B[38;5;124m'\u001B[39m\u001B[38;5;124mcamera\u001B[39m\u001B[38;5;124m'\u001B[39m]],), \u001B[38;5;28mdict\u001B[39m(training\u001B[38;5;241m=\u001B[39m\u001B[38;5;28;01mFalse\u001B[39;00m), fscope)\n\u001B[1;32m     11\u001B[0m \u001B[38;5;28;01mwith\u001B[39;00m ag__\u001B[38;5;241m.\u001B[39mld(tf)\u001B[38;5;241m.\u001B[39mname_scope(\u001B[38;5;124m'\u001B[39m\u001B[38;5;124mmetrics\u001B[39m\u001B[38;5;124m'\u001B[39m):\n\u001B[1;32m     12\u001B[0m     est \u001B[38;5;241m=\u001B[39m ag__\u001B[38;5;241m.\u001B[39mld(preds)\n",
      "\u001B[0;31mTypeError\u001B[0m: in user code:\n\n    File \"/Users/pascalleroy/Documents/m4depth/M4Depth/env/lib/python3.8/site-packages/keras/engine/training.py\", line 1845, in predict_function  *\n        return step_function(self, iterator)\n    File \"/Users/pascalleroy/Documents/m4depth/M4Depth/m4depth_h5_network.py\", line 552, in predict_step  *\n        preds = self([[data], data[\"camera\"]], training=False)\n\n    TypeError: tuple indices must be integers or slices, not str\n"
     ]
    }
   ],
   "source": [
    "for i, sample in enumerate(data):\n",
    "    a = new_model.predict(sample)\n",
    "    break"
   ],
   "metadata": {
    "collapsed": false,
    "pycharm": {
     "name": "#%%\n"
    }
   }
  },
  {
   "cell_type": "code",
   "execution_count": null,
   "outputs": [],
   "source": [],
   "metadata": {
    "collapsed": false,
    "pycharm": {
     "name": "#%%\n"
    }
   }
  }
 ],
 "metadata": {
  "kernelspec": {
   "display_name": "Python 3 (ipykernel)",
   "language": "python",
   "name": "python3"
  },
  "language_info": {
   "codemirror_mode": {
    "name": "ipython",
    "version": 3
   },
   "file_extension": ".py",
   "mimetype": "text/x-python",
   "name": "python",
   "nbconvert_exporter": "python",
   "pygments_lexer": "ipython3",
   "version": "3.8.13"
  }
 },
 "nbformat": 4,
 "nbformat_minor": 1
}